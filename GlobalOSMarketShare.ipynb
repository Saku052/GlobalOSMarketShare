{
  "nbformat": 4,
  "nbformat_minor": 0,
  "metadata": {
    "colab": {
      "provenance": [],
      "authorship_tag": "ABX9TyP57lAbAApN/kXKtg0JiYai",
      "include_colab_link": true
    },
    "kernelspec": {
      "name": "python3",
      "display_name": "Python 3"
    },
    "language_info": {
      "name": "python"
    }
  },
  "cells": [
    {
      "cell_type": "markdown",
      "metadata": {
        "id": "view-in-github",
        "colab_type": "text"
      },
      "source": [
        "<a href=\"https://colab.research.google.com/github/Saku052/GlobalOSMarketShare/blob/main/GlobalOSMarketShare.ipynb\" target=\"_parent\"><img src=\"https://colab.research.google.com/assets/colab-badge.svg\" alt=\"Open In Colab\"/></a>"
      ]
    },
    {
      "cell_type": "code",
      "execution_count": 136,
      "metadata": {
        "id": "HOL-XSzUPHJb"
      },
      "outputs": [],
      "source": [
        "import numpy as np\n",
        "import pandas as pd\n",
        "import matplotlib.pyplot as plt\n",
        "import statsmodels.formula.api as sm\n",
        "import scipy.stats as st"
      ]
    },
    {
      "cell_type": "code",
      "source": [
        "#グローバルマーケットシェアのデータをインポート\n",
        "Orig_df = pd.read_csv(\"/content/gloabal_marketshare.csv\")\n",
        "Orig_df.tail(3)"
      ],
      "metadata": {
        "colab": {
          "base_uri": "https://localhost:8080/",
          "height": 277
        },
        "id": "c7j4IGVePSL4",
        "outputId": "e6fa469b-ab96-4a41-f33d-2e4e747bac26"
      },
      "execution_count": 137,
      "outputs": [
        {
          "output_type": "execute_result",
          "data": {
            "text/plain": [
              "        Date  WinTotal  Win7  Win10  Win 8.1  Win 8  WinXP  WinVista  Windows  \\\n",
              "114  Jul '21     68.38   NaN    NaN      NaN    NaN    NaN       NaN    68.38   \n",
              "115  Aug '21     71.13   NaN    NaN      NaN    NaN    NaN       NaN    71.13   \n",
              "116  Sep '21     71.06   NaN    NaN      NaN    NaN    NaN       NaN    71.06   \n",
              "\n",
              "     MacOSX   iOS  Android  Tablet  Linux  Chrome OS  Other  \n",
              "114   14.44  3.42     2.77    6.19   2.23       1.13   7.63  \n",
              "115   15.08  3.52     2.85    6.37   2.23       1.62   3.57  \n",
              "116   15.01  3.02     2.51    5.53   2.20       2.44   3.76  "
            ],
            "text/html": [
              "\n",
              "  <div id=\"df-3eec7f47-e40b-4b57-b4a2-e07326c6d58d\">\n",
              "    <div class=\"colab-df-container\">\n",
              "      <div>\n",
              "<style scoped>\n",
              "    .dataframe tbody tr th:only-of-type {\n",
              "        vertical-align: middle;\n",
              "    }\n",
              "\n",
              "    .dataframe tbody tr th {\n",
              "        vertical-align: top;\n",
              "    }\n",
              "\n",
              "    .dataframe thead th {\n",
              "        text-align: right;\n",
              "    }\n",
              "</style>\n",
              "<table border=\"1\" class=\"dataframe\">\n",
              "  <thead>\n",
              "    <tr style=\"text-align: right;\">\n",
              "      <th></th>\n",
              "      <th>Date</th>\n",
              "      <th>WinTotal</th>\n",
              "      <th>Win7</th>\n",
              "      <th>Win10</th>\n",
              "      <th>Win 8.1</th>\n",
              "      <th>Win 8</th>\n",
              "      <th>WinXP</th>\n",
              "      <th>WinVista</th>\n",
              "      <th>Windows</th>\n",
              "      <th>MacOSX</th>\n",
              "      <th>iOS</th>\n",
              "      <th>Android</th>\n",
              "      <th>Tablet</th>\n",
              "      <th>Linux</th>\n",
              "      <th>Chrome OS</th>\n",
              "      <th>Other</th>\n",
              "    </tr>\n",
              "  </thead>\n",
              "  <tbody>\n",
              "    <tr>\n",
              "      <th>114</th>\n",
              "      <td>Jul '21</td>\n",
              "      <td>68.38</td>\n",
              "      <td>NaN</td>\n",
              "      <td>NaN</td>\n",
              "      <td>NaN</td>\n",
              "      <td>NaN</td>\n",
              "      <td>NaN</td>\n",
              "      <td>NaN</td>\n",
              "      <td>68.38</td>\n",
              "      <td>14.44</td>\n",
              "      <td>3.42</td>\n",
              "      <td>2.77</td>\n",
              "      <td>6.19</td>\n",
              "      <td>2.23</td>\n",
              "      <td>1.13</td>\n",
              "      <td>7.63</td>\n",
              "    </tr>\n",
              "    <tr>\n",
              "      <th>115</th>\n",
              "      <td>Aug '21</td>\n",
              "      <td>71.13</td>\n",
              "      <td>NaN</td>\n",
              "      <td>NaN</td>\n",
              "      <td>NaN</td>\n",
              "      <td>NaN</td>\n",
              "      <td>NaN</td>\n",
              "      <td>NaN</td>\n",
              "      <td>71.13</td>\n",
              "      <td>15.08</td>\n",
              "      <td>3.52</td>\n",
              "      <td>2.85</td>\n",
              "      <td>6.37</td>\n",
              "      <td>2.23</td>\n",
              "      <td>1.62</td>\n",
              "      <td>3.57</td>\n",
              "    </tr>\n",
              "    <tr>\n",
              "      <th>116</th>\n",
              "      <td>Sep '21</td>\n",
              "      <td>71.06</td>\n",
              "      <td>NaN</td>\n",
              "      <td>NaN</td>\n",
              "      <td>NaN</td>\n",
              "      <td>NaN</td>\n",
              "      <td>NaN</td>\n",
              "      <td>NaN</td>\n",
              "      <td>71.06</td>\n",
              "      <td>15.01</td>\n",
              "      <td>3.02</td>\n",
              "      <td>2.51</td>\n",
              "      <td>5.53</td>\n",
              "      <td>2.20</td>\n",
              "      <td>2.44</td>\n",
              "      <td>3.76</td>\n",
              "    </tr>\n",
              "  </tbody>\n",
              "</table>\n",
              "</div>\n",
              "      <button class=\"colab-df-convert\" onclick=\"convertToInteractive('df-3eec7f47-e40b-4b57-b4a2-e07326c6d58d')\"\n",
              "              title=\"Convert this dataframe to an interactive table.\"\n",
              "              style=\"display:none;\">\n",
              "        \n",
              "  <svg xmlns=\"http://www.w3.org/2000/svg\" height=\"24px\"viewBox=\"0 0 24 24\"\n",
              "       width=\"24px\">\n",
              "    <path d=\"M0 0h24v24H0V0z\" fill=\"none\"/>\n",
              "    <path d=\"M18.56 5.44l.94 2.06.94-2.06 2.06-.94-2.06-.94-.94-2.06-.94 2.06-2.06.94zm-11 1L8.5 8.5l.94-2.06 2.06-.94-2.06-.94L8.5 2.5l-.94 2.06-2.06.94zm10 10l.94 2.06.94-2.06 2.06-.94-2.06-.94-.94-2.06-.94 2.06-2.06.94z\"/><path d=\"M17.41 7.96l-1.37-1.37c-.4-.4-.92-.59-1.43-.59-.52 0-1.04.2-1.43.59L10.3 9.45l-7.72 7.72c-.78.78-.78 2.05 0 2.83L4 21.41c.39.39.9.59 1.41.59.51 0 1.02-.2 1.41-.59l7.78-7.78 2.81-2.81c.8-.78.8-2.07 0-2.86zM5.41 20L4 18.59l7.72-7.72 1.47 1.35L5.41 20z\"/>\n",
              "  </svg>\n",
              "      </button>\n",
              "      \n",
              "  <style>\n",
              "    .colab-df-container {\n",
              "      display:flex;\n",
              "      flex-wrap:wrap;\n",
              "      gap: 12px;\n",
              "    }\n",
              "\n",
              "    .colab-df-convert {\n",
              "      background-color: #E8F0FE;\n",
              "      border: none;\n",
              "      border-radius: 50%;\n",
              "      cursor: pointer;\n",
              "      display: none;\n",
              "      fill: #1967D2;\n",
              "      height: 32px;\n",
              "      padding: 0 0 0 0;\n",
              "      width: 32px;\n",
              "    }\n",
              "\n",
              "    .colab-df-convert:hover {\n",
              "      background-color: #E2EBFA;\n",
              "      box-shadow: 0px 1px 2px rgba(60, 64, 67, 0.3), 0px 1px 3px 1px rgba(60, 64, 67, 0.15);\n",
              "      fill: #174EA6;\n",
              "    }\n",
              "\n",
              "    [theme=dark] .colab-df-convert {\n",
              "      background-color: #3B4455;\n",
              "      fill: #D2E3FC;\n",
              "    }\n",
              "\n",
              "    [theme=dark] .colab-df-convert:hover {\n",
              "      background-color: #434B5C;\n",
              "      box-shadow: 0px 1px 3px 1px rgba(0, 0, 0, 0.15);\n",
              "      filter: drop-shadow(0px 1px 2px rgba(0, 0, 0, 0.3));\n",
              "      fill: #FFFFFF;\n",
              "    }\n",
              "  </style>\n",
              "\n",
              "      <script>\n",
              "        const buttonEl =\n",
              "          document.querySelector('#df-3eec7f47-e40b-4b57-b4a2-e07326c6d58d button.colab-df-convert');\n",
              "        buttonEl.style.display =\n",
              "          google.colab.kernel.accessAllowed ? 'block' : 'none';\n",
              "\n",
              "        async function convertToInteractive(key) {\n",
              "          const element = document.querySelector('#df-3eec7f47-e40b-4b57-b4a2-e07326c6d58d');\n",
              "          const dataTable =\n",
              "            await google.colab.kernel.invokeFunction('convertToInteractive',\n",
              "                                                     [key], {});\n",
              "          if (!dataTable) return;\n",
              "\n",
              "          const docLinkHtml = 'Like what you see? Visit the ' +\n",
              "            '<a target=\"_blank\" href=https://colab.research.google.com/notebooks/data_table.ipynb>data table notebook</a>'\n",
              "            + ' to learn more about interactive tables.';\n",
              "          element.innerHTML = '';\n",
              "          dataTable['output_type'] = 'display_data';\n",
              "          await google.colab.output.renderOutput(dataTable, element);\n",
              "          const docLink = document.createElement('div');\n",
              "          docLink.innerHTML = docLinkHtml;\n",
              "          element.appendChild(docLink);\n",
              "        }\n",
              "      </script>\n",
              "    </div>\n",
              "  </div>\n",
              "  "
            ]
          },
          "metadata": {},
          "execution_count": 137
        }
      ]
    },
    {
      "cell_type": "code",
      "source": [
        "#必要データだけをまとめる\n",
        "Dropped_df = pd.DataFrame(\n",
        "    data = {\"MacOS\" : Orig_df[\"MacOSX\"].dropna(),\n",
        "            \"WINDOWS\" : Orig_df[\"Windows\"].dropna()}\n",
        ")\n",
        "df = Dropped_df.dropna()\n",
        "df.tail(5)"
      ],
      "metadata": {
        "colab": {
          "base_uri": "https://localhost:8080/",
          "height": 206
        },
        "id": "hGol-yoHSey2",
        "outputId": "63aeb7cf-3bbb-4c94-c6fd-104647ab05d0"
      },
      "execution_count": 138,
      "outputs": [
        {
          "output_type": "execute_result",
          "data": {
            "text/plain": [
              "     MacOS  WINDOWS\n",
              "112  14.87    68.94\n",
              "113  14.16    68.54\n",
              "114  14.44    68.38\n",
              "115  15.08    71.13\n",
              "116  15.01    71.06"
            ],
            "text/html": [
              "\n",
              "  <div id=\"df-61983a15-67ac-4f1a-af75-f03e46f9ce05\">\n",
              "    <div class=\"colab-df-container\">\n",
              "      <div>\n",
              "<style scoped>\n",
              "    .dataframe tbody tr th:only-of-type {\n",
              "        vertical-align: middle;\n",
              "    }\n",
              "\n",
              "    .dataframe tbody tr th {\n",
              "        vertical-align: top;\n",
              "    }\n",
              "\n",
              "    .dataframe thead th {\n",
              "        text-align: right;\n",
              "    }\n",
              "</style>\n",
              "<table border=\"1\" class=\"dataframe\">\n",
              "  <thead>\n",
              "    <tr style=\"text-align: right;\">\n",
              "      <th></th>\n",
              "      <th>MacOS</th>\n",
              "      <th>WINDOWS</th>\n",
              "    </tr>\n",
              "  </thead>\n",
              "  <tbody>\n",
              "    <tr>\n",
              "      <th>112</th>\n",
              "      <td>14.87</td>\n",
              "      <td>68.94</td>\n",
              "    </tr>\n",
              "    <tr>\n",
              "      <th>113</th>\n",
              "      <td>14.16</td>\n",
              "      <td>68.54</td>\n",
              "    </tr>\n",
              "    <tr>\n",
              "      <th>114</th>\n",
              "      <td>14.44</td>\n",
              "      <td>68.38</td>\n",
              "    </tr>\n",
              "    <tr>\n",
              "      <th>115</th>\n",
              "      <td>15.08</td>\n",
              "      <td>71.13</td>\n",
              "    </tr>\n",
              "    <tr>\n",
              "      <th>116</th>\n",
              "      <td>15.01</td>\n",
              "      <td>71.06</td>\n",
              "    </tr>\n",
              "  </tbody>\n",
              "</table>\n",
              "</div>\n",
              "      <button class=\"colab-df-convert\" onclick=\"convertToInteractive('df-61983a15-67ac-4f1a-af75-f03e46f9ce05')\"\n",
              "              title=\"Convert this dataframe to an interactive table.\"\n",
              "              style=\"display:none;\">\n",
              "        \n",
              "  <svg xmlns=\"http://www.w3.org/2000/svg\" height=\"24px\"viewBox=\"0 0 24 24\"\n",
              "       width=\"24px\">\n",
              "    <path d=\"M0 0h24v24H0V0z\" fill=\"none\"/>\n",
              "    <path d=\"M18.56 5.44l.94 2.06.94-2.06 2.06-.94-2.06-.94-.94-2.06-.94 2.06-2.06.94zm-11 1L8.5 8.5l.94-2.06 2.06-.94-2.06-.94L8.5 2.5l-.94 2.06-2.06.94zm10 10l.94 2.06.94-2.06 2.06-.94-2.06-.94-.94-2.06-.94 2.06-2.06.94z\"/><path d=\"M17.41 7.96l-1.37-1.37c-.4-.4-.92-.59-1.43-.59-.52 0-1.04.2-1.43.59L10.3 9.45l-7.72 7.72c-.78.78-.78 2.05 0 2.83L4 21.41c.39.39.9.59 1.41.59.51 0 1.02-.2 1.41-.59l7.78-7.78 2.81-2.81c.8-.78.8-2.07 0-2.86zM5.41 20L4 18.59l7.72-7.72 1.47 1.35L5.41 20z\"/>\n",
              "  </svg>\n",
              "      </button>\n",
              "      \n",
              "  <style>\n",
              "    .colab-df-container {\n",
              "      display:flex;\n",
              "      flex-wrap:wrap;\n",
              "      gap: 12px;\n",
              "    }\n",
              "\n",
              "    .colab-df-convert {\n",
              "      background-color: #E8F0FE;\n",
              "      border: none;\n",
              "      border-radius: 50%;\n",
              "      cursor: pointer;\n",
              "      display: none;\n",
              "      fill: #1967D2;\n",
              "      height: 32px;\n",
              "      padding: 0 0 0 0;\n",
              "      width: 32px;\n",
              "    }\n",
              "\n",
              "    .colab-df-convert:hover {\n",
              "      background-color: #E2EBFA;\n",
              "      box-shadow: 0px 1px 2px rgba(60, 64, 67, 0.3), 0px 1px 3px 1px rgba(60, 64, 67, 0.15);\n",
              "      fill: #174EA6;\n",
              "    }\n",
              "\n",
              "    [theme=dark] .colab-df-convert {\n",
              "      background-color: #3B4455;\n",
              "      fill: #D2E3FC;\n",
              "    }\n",
              "\n",
              "    [theme=dark] .colab-df-convert:hover {\n",
              "      background-color: #434B5C;\n",
              "      box-shadow: 0px 1px 3px 1px rgba(0, 0, 0, 0.15);\n",
              "      filter: drop-shadow(0px 1px 2px rgba(0, 0, 0, 0.3));\n",
              "      fill: #FFFFFF;\n",
              "    }\n",
              "  </style>\n",
              "\n",
              "      <script>\n",
              "        const buttonEl =\n",
              "          document.querySelector('#df-61983a15-67ac-4f1a-af75-f03e46f9ce05 button.colab-df-convert');\n",
              "        buttonEl.style.display =\n",
              "          google.colab.kernel.accessAllowed ? 'block' : 'none';\n",
              "\n",
              "        async function convertToInteractive(key) {\n",
              "          const element = document.querySelector('#df-61983a15-67ac-4f1a-af75-f03e46f9ce05');\n",
              "          const dataTable =\n",
              "            await google.colab.kernel.invokeFunction('convertToInteractive',\n",
              "                                                     [key], {});\n",
              "          if (!dataTable) return;\n",
              "\n",
              "          const docLinkHtml = 'Like what you see? Visit the ' +\n",
              "            '<a target=\"_blank\" href=https://colab.research.google.com/notebooks/data_table.ipynb>data table notebook</a>'\n",
              "            + ' to learn more about interactive tables.';\n",
              "          element.innerHTML = '';\n",
              "          dataTable['output_type'] = 'display_data';\n",
              "          await google.colab.output.renderOutput(dataTable, element);\n",
              "          const docLink = document.createElement('div');\n",
              "          docLink.innerHTML = docLinkHtml;\n",
              "          element.appendChild(docLink);\n",
              "        }\n",
              "      </script>\n",
              "    </div>\n",
              "  </div>\n",
              "  "
            ]
          },
          "metadata": {},
          "execution_count": 138
        }
      ]
    },
    {
      "cell_type": "code",
      "source": [
        "#離散図の描写\n",
        "plt.scatter(df[\"MacOS\"], df[\"WINDOWS\"])\n",
        "plt.xlabel(\"Market share of MacOS\")\n",
        "plt.ylabel(\"Market share of Windows\")\n",
        "plt.title(\"The relationship of market share between MacOS and Windows\")\n",
        "plt.show()"
      ],
      "metadata": {
        "colab": {
          "base_uri": "https://localhost:8080/",
          "height": 295
        },
        "id": "vWBl96S7YoWr",
        "outputId": "53d8ac60-cc17-4a8a-d65b-e2d4f0d62c25"
      },
      "execution_count": 139,
      "outputs": [
        {
          "output_type": "display_data",
          "data": {
            "text/plain": [
              "<Figure size 432x288 with 1 Axes>"
            ],
            "image/png": "[encoded data removed]"
          },
          "metadata": {
            "needs_background": "light"
          }
        }
      ]
    },
    {
      "cell_type": "code",
      "source": [
        "#MacOSのLOGをとった新たな変数の作成\n",
        "df[\"LogMac\"] = np.log(df[\"MacOS\"])\n",
        "\n",
        "#離散図の描写\n",
        "plt.scatter(df[\"LogMac\"], df[\"WINDOWS\"])\n",
        "plt.xlabel(\"Market share of logorithem of MacOS\")\n",
        "plt.ylabel(\"Market share of Windows\")\n",
        "plt.title(\"The relationship of market share between logorithem of MacOS and Windows\")\n",
        "plt.show()"
      ],
      "metadata": {
        "colab": {
          "base_uri": "https://localhost:8080/",
          "height": 295
        },
        "id": "shK5H2yFZ80Y",
        "outputId": "65aa7d54-a4c6-43d5-c692-ae4f8b5e2d83"
      },
      "execution_count": 140,
      "outputs": [
        {
          "output_type": "display_data",
          "data": {
            "text/plain": [
              "<Figure size 432x288 with 1 Axes>"
            ],
            "image/png": "[encoded data removed]"
          },
          "metadata": {
            "needs_background": "light"
          }
        }
      ]
    },
    {
      "cell_type": "code",
      "source": [
        "#モデルの生成\n",
        "model = sm.ols(\"WINDOWS~LogMac\", df).fit()\n",
        "print(model.summary2())"
      ],
      "metadata": {
        "colab": {
          "base_uri": "https://localhost:8080/"
        },
        "id": "g-tw08KzbAHK",
        "outputId": "673cae8e-02e0-42ff-874e-ec7e4e9925c5"
      },
      "execution_count": 141,
      "outputs": [
        {
          "output_type": "stream",
          "name": "stdout",
          "text": [
            "                 Results: Ordinary least squares\n",
            "=================================================================\n",
            "Model:              OLS              Adj. R-squared:     0.727   \n",
            "Dependent Variable: WINDOWS          AIC:                593.9172\n",
            "Date:               2022-11-24 03:40 BIC:                599.4416\n",
            "No. Observations:   117              Log-Likelihood:     -294.96 \n",
            "Df Model:           1                F-statistic:        309.8   \n",
            "Df Residuals:       115              Prob (F-statistic): 2.03e-34\n",
            "R-squared:          0.729            Scale:              9.2202  \n",
            "-----------------------------------------------------------------\n",
            "               Coef.   Std.Err.    t     P>|t|   [0.025   0.975] \n",
            "-----------------------------------------------------------------\n",
            "Intercept     117.5535   2.2947  51.2291 0.0000 113.0082 122.0988\n",
            "LogMac        -17.2562   0.9804 -17.6007 0.0000 -19.1982 -15.3141\n",
            "-----------------------------------------------------------------\n",
            "Omnibus:               0.266        Durbin-Watson:          0.252\n",
            "Prob(Omnibus):         0.876        Jarque-Bera (JB):       0.055\n",
            "Skew:                  -0.033       Prob(JB):               0.973\n",
            "Kurtosis:              3.084        Condition No.:          23   \n",
            "=================================================================\n",
            "\n"
          ]
        }
      ]
    },
    {
      "cell_type": "code",
      "source": [
        "#Windows_hatの生成と、残差の計算\n",
        "df[\"Win_pred\"] = model.predict(df)\n",
        "df[\"Residuals\"] = df[\"Win_pred\"] - df[\"WINDOWS\"]\n",
        "df.tail(3)"
      ],
      "metadata": {
        "colab": {
          "base_uri": "https://localhost:8080/",
          "height": 143
        },
        "id": "gup5MNkgeR8z",
        "outputId": "bfa4abaa-e5c4-4a23-9d22-02068aaa1192"
      },
      "execution_count": 142,
      "outputs": [
        {
          "output_type": "execute_result",
          "data": {
            "text/plain": [
              "     MacOS  WINDOWS    LogMac   Win_pred  Residuals\n",
              "114  14.44    68.38  2.670002  71.479520   3.099520\n",
              "115  15.08    71.13  2.713369  70.731169  -0.398831\n",
              "116  15.01    71.06  2.708717  70.811457  -0.248543"
            ],
            "text/html": [
              "\n",
              "  <div id=\"df-223ad33a-f0bf-4493-a82d-65514965e77b\">\n",
              "    <div class=\"colab-df-container\">\n",
              "      <div>\n",
              "<style scoped>\n",
              "    .dataframe tbody tr th:only-of-type {\n",
              "        vertical-align: middle;\n",
              "    }\n",
              "\n",
              "    .dataframe tbody tr th {\n",
              "        vertical-align: top;\n",
              "    }\n",
              "\n",
              "    .dataframe thead th {\n",
              "        text-align: right;\n",
              "    }\n",
              "</style>\n",
              "<table border=\"1\" class=\"dataframe\">\n",
              "  <thead>\n",
              "    <tr style=\"text-align: right;\">\n",
              "      <th></th>\n",
              "      <th>MacOS</th>\n",
              "      <th>WINDOWS</th>\n",
              "      <th>LogMac</th>\n",
              "      <th>Win_pred</th>\n",
              "      <th>Residuals</th>\n",
              "    </tr>\n",
              "  </thead>\n",
              "  <tbody>\n",
              "    <tr>\n",
              "      <th>114</th>\n",
              "      <td>14.44</td>\n",
              "      <td>68.38</td>\n",
              "      <td>2.670002</td>\n",
              "      <td>71.479520</td>\n",
              "      <td>3.099520</td>\n",
              "    </tr>\n",
              "    <tr>\n",
              "      <th>115</th>\n",
              "      <td>15.08</td>\n",
              "      <td>71.13</td>\n",
              "      <td>2.713369</td>\n",
              "      <td>70.731169</td>\n",
              "      <td>-0.398831</td>\n",
              "    </tr>\n",
              "    <tr>\n",
              "      <th>116</th>\n",
              "      <td>15.01</td>\n",
              "      <td>71.06</td>\n",
              "      <td>2.708717</td>\n",
              "      <td>70.811457</td>\n",
              "      <td>-0.248543</td>\n",
              "    </tr>\n",
              "  </tbody>\n",
              "</table>\n",
              "</div>\n",
              "      <button class=\"colab-df-convert\" onclick=\"convertToInteractive('df-223ad33a-f0bf-4493-a82d-65514965e77b')\"\n",
              "              title=\"Convert this dataframe to an interactive table.\"\n",
              "              style=\"display:none;\">\n",
              "        \n",
              "  <svg xmlns=\"http://www.w3.org/2000/svg\" height=\"24px\"viewBox=\"0 0 24 24\"\n",
              "       width=\"24px\">\n",
              "    <path d=\"M0 0h24v24H0V0z\" fill=\"none\"/>\n",
              "    <path d=\"M18.56 5.44l.94 2.06.94-2.06 2.06-.94-2.06-.94-.94-2.06-.94 2.06-2.06.94zm-11 1L8.5 8.5l.94-2.06 2.06-.94-2.06-.94L8.5 2.5l-.94 2.06-2.06.94zm10 10l.94 2.06.94-2.06 2.06-.94-2.06-.94-.94-2.06-.94 2.06-2.06.94z\"/><path d=\"M17.41 7.96l-1.37-1.37c-.4-.4-.92-.59-1.43-.59-.52 0-1.04.2-1.43.59L10.3 9.45l-7.72 7.72c-.78.78-.78 2.05 0 2.83L4 21.41c.39.39.9.59 1.41.59.51 0 1.02-.2 1.41-.59l7.78-7.78 2.81-2.81c.8-.78.8-2.07 0-2.86zM5.41 20L4 18.59l7.72-7.72 1.47 1.35L5.41 20z\"/>\n",
              "  </svg>\n",
              "      </button>\n",
              "      \n",
              "  <style>\n",
              "    .colab-df-container {\n",
              "      display:flex;\n",
              "      flex-wrap:wrap;\n",
              "      gap: 12px;\n",
              "    }\n",
              "\n",
              "    .colab-df-convert {\n",
              "      background-color: #E8F0FE;\n",
              "      border: none;\n",
              "      border-radius: 50%;\n",
              "      cursor: pointer;\n",
              "      display: none;\n",
              "      fill: #1967D2;\n",
              "      height: 32px;\n",
              "      padding: 0 0 0 0;\n",
              "      width: 32px;\n",
              "    }\n",
              "\n",
              "    .colab-df-convert:hover {\n",
              "      background-color: #E2EBFA;\n",
              "      box-shadow: 0px 1px 2px rgba(60, 64, 67, 0.3), 0px 1px 3px 1px rgba(60, 64, 67, 0.15);\n",
              "      fill: #174EA6;\n",
              "    }\n",
              "\n",
              "    [theme=dark] .colab-df-convert {\n",
              "      background-color: #3B4455;\n",
              "      fill: #D2E3FC;\n",
              "    }\n",
              "\n",
              "    [theme=dark] .colab-df-convert:hover {\n",
              "      background-color: #434B5C;\n",
              "      box-shadow: 0px 1px 3px 1px rgba(0, 0, 0, 0.15);\n",
              "      filter: drop-shadow(0px 1px 2px rgba(0, 0, 0, 0.3));\n",
              "      fill: #FFFFFF;\n",
              "    }\n",
              "  </style>\n",
              "\n",
              "      <script>\n",
              "        const buttonEl =\n",
              "          document.querySelector('#df-223ad33a-f0bf-4493-a82d-65514965e77b button.colab-df-convert');\n",
              "        buttonEl.style.display =\n",
              "          google.colab.kernel.accessAllowed ? 'block' : 'none';\n",
              "\n",
              "        async function convertToInteractive(key) {\n",
              "          const element = document.querySelector('#df-223ad33a-f0bf-4493-a82d-65514965e77b');\n",
              "          const dataTable =\n",
              "            await google.colab.kernel.invokeFunction('convertToInteractive',\n",
              "                                                     [key], {});\n",
              "          if (!dataTable) return;\n",
              "\n",
              "          const docLinkHtml = 'Like what you see? Visit the ' +\n",
              "            '<a target=\"_blank\" href=https://colab.research.google.com/notebooks/data_table.ipynb>data table notebook</a>'\n",
              "            + ' to learn more about interactive tables.';\n",
              "          element.innerHTML = '';\n",
              "          dataTable['output_type'] = 'display_data';\n",
              "          await google.colab.output.renderOutput(dataTable, element);\n",
              "          const docLink = document.createElement('div');\n",
              "          docLink.innerHTML = docLinkHtml;\n",
              "          element.appendChild(docLink);\n",
              "        }\n",
              "      </script>\n",
              "    </div>\n",
              "  </div>\n",
              "  "
            ]
          },
          "metadata": {},
          "execution_count": 142
        }
      ]
    },
    {
      "cell_type": "code",
      "source": [
        "#正規分布の生成と、残差の正規性\n",
        "df[\"Residuals\"] = st.zscore(df[\"Residuals\"])\n",
        "\n",
        "def CreateNDist(data):\n",
        "  n_norm = np.linspace(data.min(), data.max(), 1000)\n",
        "  p_norm = []\n",
        "  for i in range(len(n_norm)):\n",
        "    p_norm.append(st.norm.pdf(x = n_norm[i], loc = 0, scale = 1))\n",
        "  return n_norm, p_norm\n",
        "\n",
        "n, p = CreateNDist(df[\"Residuals\"])"
      ],
      "metadata": {
        "id": "pcUC7RtBe_NJ"
      },
      "execution_count": 143,
      "outputs": []
    },
    {
      "cell_type": "code",
      "source": [
        "#分布の描写\n",
        "plt.hist(df[\"Residuals\"], density = True, bins = 20)\n",
        "plt.plot(n, p, color = \"red\")\n",
        "plt.title(\"Normality of residuals\")\n",
        "plt.xlabel(\"residuals\")\n",
        "plt.ylabel(\"density\")\n",
        "plt.show()"
      ],
      "metadata": {
        "colab": {
          "base_uri": "https://localhost:8080/",
          "height": 295
        },
        "id": "mNaTeBI4hdXD",
        "outputId": "cd825a20-e831-43de-ac66-cd181c249958"
      },
      "execution_count": 144,
      "outputs": [
        {
          "output_type": "display_data",
          "data": {
            "text/plain": [
              "<Figure size 432x288 with 1 Axes>"
            ],
            "image/png": "[encoded data removed]"
          },
          "metadata": {
            "needs_background": "light"
          }
        }
      ]
    },
    {
      "cell_type": "code",
      "source": [
        "#Q-Q plotから正規性を判断する\n",
        "st.probplot(df[\"Residuals\"], dist = \"norm\", plot = plt)\n",
        "plt.show()"
      ],
      "metadata": {
        "colab": {
          "base_uri": "https://localhost:8080/",
          "height": 295
        },
        "id": "6AgGxLRqhn8-",
        "outputId": "28044c88-657d-4c36-9cf9-05e66fc303ad"
      },
      "execution_count": 145,
      "outputs": [
        {
          "output_type": "display_data",
          "data": {
            "text/plain": [
              "<Figure size 432x288 with 1 Axes>"
            ],
            "image/png": "[encoded data removed]"
          },
          "metadata": {
            "needs_background": "light"
          }
        }
      ]
    },
    {
      "cell_type": "code",
      "source": [
        "#check the dependency and cosntant variance of the Residuals\n",
        "plt.scatter(df[\"LogMac\"], df[\"Residuals\"])\n",
        "plt.hlines(0, df[\"LogMac\"].min(), df[\"LogMac\"].max(), color = \"red\")\n",
        "plt.title(\"Scatter plot for standerdized Residuals\")\n",
        "plt.xlabel(\"logrithem of MACOS\")\n",
        "plt.ylabel(\"Standerdized Residuals\")\n",
        "plt.show()"
      ],
      "metadata": {
        "colab": {
          "base_uri": "https://localhost:8080/",
          "height": 295
        },
        "id": "aIL_7cINh9AO",
        "outputId": "f860080f-476d-4a22-9429-1b8d905d5063"
      },
      "execution_count": 153,
      "outputs": [
        {
          "output_type": "display_data",
          "data": {
            "text/plain": [
              "<Figure size 432x288 with 1 Axes>"
            ],
            "image/png": "[encoded data removed]"
          },
          "metadata": {
            "needs_background": "light"
          }
        }
      ]
    },
    {
      "cell_type": "code",
      "source": [
        "#クックの距離から外れ値を測定する\n",
        "df_infl = model.get_influence().summary_frame()\n",
        "plt.boxplot(df_infl[\"cooks_d\"])\n",
        "plt.title(\"cooks distance\")\n",
        "plt.show()"
      ],
      "metadata": {
        "colab": {
          "base_uri": "https://localhost:8080/",
          "height": 281
        },
        "id": "B0CJ6rOGipiP",
        "outputId": "fcbde06a-0203-406a-e48f-219dd8bee5a6"
      },
      "execution_count": 147,
      "outputs": [
        {
          "output_type": "display_data",
          "data": {
            "text/plain": [
              "<Figure size 432x288 with 1 Axes>"
            ],
            "image/png": "[encoded data removed]"
          },
          "metadata": {
            "needs_background": "light"
          }
        }
      ]
    },
    {
      "cell_type": "code",
      "source": [
        "#クックの距離0.03を超えているデータをドロップ\n",
        "def getindexOutliear(cooksd):\n",
        "  outlier = cooksd[(cooksd > 0.03)]\n",
        "  return outlier.index\n",
        "\n",
        "filtered_df = df.drop(getindexOutliear(df_infl[\"cooks_d\"]))\n",
        "filtered_df.reset_index(inplace=True)\n",
        "filtered_df.tail(3)"
      ],
      "metadata": {
        "colab": {
          "base_uri": "https://localhost:8080/",
          "height": 143
        },
        "id": "Gz7WYUVWk5Pl",
        "outputId": "3542c1c1-6aa2-4f40-db14-4a9e56e5aaf9"
      },
      "execution_count": 148,
      "outputs": [
        {
          "output_type": "execute_result",
          "data": {
            "text/plain": [
              "     index  MacOS  WINDOWS    LogMac   Win_pred  Residuals\n",
              "104    114  14.44    68.38  2.670002  71.479520   1.029602\n",
              "105    115  15.08    71.13  2.713369  70.731169  -0.132484\n",
              "106    116  15.01    71.06  2.708717  70.811457  -0.082561"
            ],
            "text/html": [
              "\n",
              "  <div id=\"df-41ab7f59-7792-4471-a7de-b5fbcb257578\">\n",
              "    <div class=\"colab-df-container\">\n",
              "      <div>\n",
              "<style scoped>\n",
              "    .dataframe tbody tr th:only-of-type {\n",
              "        vertical-align: middle;\n",
              "    }\n",
              "\n",
              "    .dataframe tbody tr th {\n",
              "        vertical-align: top;\n",
              "    }\n",
              "\n",
              "    .dataframe thead th {\n",
              "        text-align: right;\n",
              "    }\n",
              "</style>\n",
              "<table border=\"1\" class=\"dataframe\">\n",
              "  <thead>\n",
              "    <tr style=\"text-align: right;\">\n",
              "      <th></th>\n",
              "      <th>index</th>\n",
              "      <th>MacOS</th>\n",
              "      <th>WINDOWS</th>\n",
              "      <th>LogMac</th>\n",
              "      <th>Win_pred</th>\n",
              "      <th>Residuals</th>\n",
              "    </tr>\n",
              "  </thead>\n",
              "  <tbody>\n",
              "    <tr>\n",
              "      <th>104</th>\n",
              "      <td>114</td>\n",
              "      <td>14.44</td>\n",
              "      <td>68.38</td>\n",
              "      <td>2.670002</td>\n",
              "      <td>71.479520</td>\n",
              "      <td>1.029602</td>\n",
              "    </tr>\n",
              "    <tr>\n",
              "      <th>105</th>\n",
              "      <td>115</td>\n",
              "      <td>15.08</td>\n",
              "      <td>71.13</td>\n",
              "      <td>2.713369</td>\n",
              "      <td>70.731169</td>\n",
              "      <td>-0.132484</td>\n",
              "    </tr>\n",
              "    <tr>\n",
              "      <th>106</th>\n",
              "      <td>116</td>\n",
              "      <td>15.01</td>\n",
              "      <td>71.06</td>\n",
              "      <td>2.708717</td>\n",
              "      <td>70.811457</td>\n",
              "      <td>-0.082561</td>\n",
              "    </tr>\n",
              "  </tbody>\n",
              "</table>\n",
              "</div>\n",
              "      <button class=\"colab-df-convert\" onclick=\"convertToInteractive('df-41ab7f59-7792-4471-a7de-b5fbcb257578')\"\n",
              "              title=\"Convert this dataframe to an interactive table.\"\n",
              "              style=\"display:none;\">\n",
              "        \n",
              "  <svg xmlns=\"http://www.w3.org/2000/svg\" height=\"24px\"viewBox=\"0 0 24 24\"\n",
              "       width=\"24px\">\n",
              "    <path d=\"M0 0h24v24H0V0z\" fill=\"none\"/>\n",
              "    <path d=\"M18.56 5.44l.94 2.06.94-2.06 2.06-.94-2.06-.94-.94-2.06-.94 2.06-2.06.94zm-11 1L8.5 8.5l.94-2.06 2.06-.94-2.06-.94L8.5 2.5l-.94 2.06-2.06.94zm10 10l.94 2.06.94-2.06 2.06-.94-2.06-.94-.94-2.06-.94 2.06-2.06.94z\"/><path d=\"M17.41 7.96l-1.37-1.37c-.4-.4-.92-.59-1.43-.59-.52 0-1.04.2-1.43.59L10.3 9.45l-7.72 7.72c-.78.78-.78 2.05 0 2.83L4 21.41c.39.39.9.59 1.41.59.51 0 1.02-.2 1.41-.59l7.78-7.78 2.81-2.81c.8-.78.8-2.07 0-2.86zM5.41 20L4 18.59l7.72-7.72 1.47 1.35L5.41 20z\"/>\n",
              "  </svg>\n",
              "      </button>\n",
              "      \n",
              "  <style>\n",
              "    .colab-df-container {\n",
              "      display:flex;\n",
              "      flex-wrap:wrap;\n",
              "      gap: 12px;\n",
              "    }\n",
              "\n",
              "    .colab-df-convert {\n",
              "      background-color: #E8F0FE;\n",
              "      border: none;\n",
              "      border-radius: 50%;\n",
              "      cursor: pointer;\n",
              "      display: none;\n",
              "      fill: #1967D2;\n",
              "      height: 32px;\n",
              "      padding: 0 0 0 0;\n",
              "      width: 32px;\n",
              "    }\n",
              "\n",
              "    .colab-df-convert:hover {\n",
              "      background-color: #E2EBFA;\n",
              "      box-shadow: 0px 1px 2px rgba(60, 64, 67, 0.3), 0px 1px 3px 1px rgba(60, 64, 67, 0.15);\n",
              "      fill: #174EA6;\n",
              "    }\n",
              "\n",
              "    [theme=dark] .colab-df-convert {\n",
              "      background-color: #3B4455;\n",
              "      fill: #D2E3FC;\n",
              "    }\n",
              "\n",
              "    [theme=dark] .colab-df-convert:hover {\n",
              "      background-color: #434B5C;\n",
              "      box-shadow: 0px 1px 3px 1px rgba(0, 0, 0, 0.15);\n",
              "      filter: drop-shadow(0px 1px 2px rgba(0, 0, 0, 0.3));\n",
              "      fill: #FFFFFF;\n",
              "    }\n",
              "  </style>\n",
              "\n",
              "      <script>\n",
              "        const buttonEl =\n",
              "          document.querySelector('#df-41ab7f59-7792-4471-a7de-b5fbcb257578 button.colab-df-convert');\n",
              "        buttonEl.style.display =\n",
              "          google.colab.kernel.accessAllowed ? 'block' : 'none';\n",
              "\n",
              "        async function convertToInteractive(key) {\n",
              "          const element = document.querySelector('#df-41ab7f59-7792-4471-a7de-b5fbcb257578');\n",
              "          const dataTable =\n",
              "            await google.colab.kernel.invokeFunction('convertToInteractive',\n",
              "                                                     [key], {});\n",
              "          if (!dataTable) return;\n",
              "\n",
              "          const docLinkHtml = 'Like what you see? Visit the ' +\n",
              "            '<a target=\"_blank\" href=https://colab.research.google.com/notebooks/data_table.ipynb>data table notebook</a>'\n",
              "            + ' to learn more about interactive tables.';\n",
              "          element.innerHTML = '';\n",
              "          dataTable['output_type'] = 'display_data';\n",
              "          await google.colab.output.renderOutput(dataTable, element);\n",
              "          const docLink = document.createElement('div');\n",
              "          docLink.innerHTML = docLinkHtml;\n",
              "          element.appendChild(docLink);\n",
              "        }\n",
              "      </script>\n",
              "    </div>\n",
              "  </div>\n",
              "  "
            ]
          },
          "metadata": {},
          "execution_count": 148
        }
      ]
    },
    {
      "cell_type": "code",
      "source": [
        "#新規モデルの生成\n",
        "model2 = sm.ols(\"WINDOWS~LogMac\", filtered_df).fit()\n",
        "print(model2.summary2())"
      ],
      "metadata": {
        "colab": {
          "base_uri": "https://localhost:8080/"
        },
        "id": "oCfHFWRcpoq0",
        "outputId": "9194e937-4721-48ef-ee72-b58edc1a52e4"
      },
      "execution_count": 149,
      "outputs": [
        {
          "output_type": "stream",
          "name": "stdout",
          "text": [
            "                 Results: Ordinary least squares\n",
            "=================================================================\n",
            "Model:              OLS              Adj. R-squared:     0.764   \n",
            "Dependent Variable: WINDOWS          AIC:                509.2752\n",
            "Date:               2022-11-24 03:40 BIC:                514.6209\n",
            "No. Observations:   107              Log-Likelihood:     -252.64 \n",
            "Df Model:           1                F-statistic:        343.7   \n",
            "Df Residuals:       105              Prob (F-statistic): 6.82e-35\n",
            "R-squared:          0.766            Scale:              6.7073  \n",
            "-----------------------------------------------------------------\n",
            "               Coef.   Std.Err.    t     P>|t|   [0.025   0.975] \n",
            "-----------------------------------------------------------------\n",
            "Intercept     116.6425   2.1403  54.4986 0.0000 112.3987 120.8863\n",
            "LogMac        -17.0061   0.9174 -18.5381 0.0000 -18.8251 -15.1872\n",
            "-----------------------------------------------------------------\n",
            "Omnibus:              1.734        Durbin-Watson:           0.255\n",
            "Prob(Omnibus):        0.420        Jarque-Bera (JB):        1.630\n",
            "Skew:                 0.199        Prob(JB):                0.443\n",
            "Kurtosis:             2.545        Condition No.:           24   \n",
            "=================================================================\n",
            "\n"
          ]
        }
      ]
    },
    {
      "cell_type": "code",
      "source": [
        "#Windows_hatの生成と、残差の計算\n",
        "filtered_df[\"New_Win_pred\"] = model2.predict(filtered_df)\n",
        "filtered_df[\"New_Residuals\"] = filtered_df[\"New_Win_pred\"] - filtered_df[\"WINDOWS\"]\n",
        "filtered_df.tail(3)"
      ],
      "metadata": {
        "colab": {
          "base_uri": "https://localhost:8080/",
          "height": 143
        },
        "id": "0MGyNquWp59a",
        "outputId": "4f5a6edd-6247-42ae-de0c-4a80c40c0cd8"
      },
      "execution_count": 150,
      "outputs": [
        {
          "output_type": "execute_result",
          "data": {
            "text/plain": [
              "     index  MacOS  WINDOWS    LogMac   Win_pred  Residuals  New_Win_pred  \\\n",
              "104    114  14.44    68.38  2.670002  71.479520   1.029602     71.236107   \n",
              "105    115  15.08    71.13  2.713369  70.731169  -0.132484     70.498598   \n",
              "106    116  15.01    71.06  2.708717  70.811457  -0.082561     70.577723   \n",
              "\n",
              "     New_Residuals  \n",
              "104       2.856107  \n",
              "105      -0.631402  \n",
              "106      -0.482277  "
            ],
            "text/html": [
              "\n",
              "  <div id=\"df-5a998664-49b7-4bb4-b475-030097fdb473\">\n",
              "    <div class=\"colab-df-container\">\n",
              "      <div>\n",
              "<style scoped>\n",
              "    .dataframe tbody tr th:only-of-type {\n",
              "        vertical-align: middle;\n",
              "    }\n",
              "\n",
              "    .dataframe tbody tr th {\n",
              "        vertical-align: top;\n",
              "    }\n",
              "\n",
              "    .dataframe thead th {\n",
              "        text-align: right;\n",
              "    }\n",
              "</style>\n",
              "<table border=\"1\" class=\"dataframe\">\n",
              "  <thead>\n",
              "    <tr style=\"text-align: right;\">\n",
              "      <th></th>\n",
              "      <th>index</th>\n",
              "      <th>MacOS</th>\n",
              "      <th>WINDOWS</th>\n",
              "      <th>LogMac</th>\n",
              "      <th>Win_pred</th>\n",
              "      <th>Residuals</th>\n",
              "      <th>New_Win_pred</th>\n",
              "      <th>New_Residuals</th>\n",
              "    </tr>\n",
              "  </thead>\n",
              "  <tbody>\n",
              "    <tr>\n",
              "      <th>104</th>\n",
              "      <td>114</td>\n",
              "      <td>14.44</td>\n",
              "      <td>68.38</td>\n",
              "      <td>2.670002</td>\n",
              "      <td>71.479520</td>\n",
              "      <td>1.029602</td>\n",
              "      <td>71.236107</td>\n",
              "      <td>2.856107</td>\n",
              "    </tr>\n",
              "    <tr>\n",
              "      <th>105</th>\n",
              "      <td>115</td>\n",
              "      <td>15.08</td>\n",
              "      <td>71.13</td>\n",
              "      <td>2.713369</td>\n",
              "      <td>70.731169</td>\n",
              "      <td>-0.132484</td>\n",
              "      <td>70.498598</td>\n",
              "      <td>-0.631402</td>\n",
              "    </tr>\n",
              "    <tr>\n",
              "      <th>106</th>\n",
              "      <td>116</td>\n",
              "      <td>15.01</td>\n",
              "      <td>71.06</td>\n",
              "      <td>2.708717</td>\n",
              "      <td>70.811457</td>\n",
              "      <td>-0.082561</td>\n",
              "      <td>70.577723</td>\n",
              "      <td>-0.482277</td>\n",
              "    </tr>\n",
              "  </tbody>\n",
              "</table>\n",
              "</div>\n",
              "      <button class=\"colab-df-convert\" onclick=\"convertToInteractive('df-5a998664-49b7-4bb4-b475-030097fdb473')\"\n",
              "              title=\"Convert this dataframe to an interactive table.\"\n",
              "              style=\"display:none;\">\n",
              "        \n",
              "  <svg xmlns=\"http://www.w3.org/2000/svg\" height=\"24px\"viewBox=\"0 0 24 24\"\n",
              "       width=\"24px\">\n",
              "    <path d=\"M0 0h24v24H0V0z\" fill=\"none\"/>\n",
              "    <path d=\"M18.56 5.44l.94 2.06.94-2.06 2.06-.94-2.06-.94-.94-2.06-.94 2.06-2.06.94zm-11 1L8.5 8.5l.94-2.06 2.06-.94-2.06-.94L8.5 2.5l-.94 2.06-2.06.94zm10 10l.94 2.06.94-2.06 2.06-.94-2.06-.94-.94-2.06-.94 2.06-2.06.94z\"/><path d=\"M17.41 7.96l-1.37-1.37c-.4-.4-.92-.59-1.43-.59-.52 0-1.04.2-1.43.59L10.3 9.45l-7.72 7.72c-.78.78-.78 2.05 0 2.83L4 21.41c.39.39.9.59 1.41.59.51 0 1.02-.2 1.41-.59l7.78-7.78 2.81-2.81c.8-.78.8-2.07 0-2.86zM5.41 20L4 18.59l7.72-7.72 1.47 1.35L5.41 20z\"/>\n",
              "  </svg>\n",
              "      </button>\n",
              "      \n",
              "  <style>\n",
              "    .colab-df-container {\n",
              "      display:flex;\n",
              "      flex-wrap:wrap;\n",
              "      gap: 12px;\n",
              "    }\n",
              "\n",
              "    .colab-df-convert {\n",
              "      background-color: #E8F0FE;\n",
              "      border: none;\n",
              "      border-radius: 50%;\n",
              "      cursor: pointer;\n",
              "      display: none;\n",
              "      fill: #1967D2;\n",
              "      height: 32px;\n",
              "      padding: 0 0 0 0;\n",
              "      width: 32px;\n",
              "    }\n",
              "\n",
              "    .colab-df-convert:hover {\n",
              "      background-color: #E2EBFA;\n",
              "      box-shadow: 0px 1px 2px rgba(60, 64, 67, 0.3), 0px 1px 3px 1px rgba(60, 64, 67, 0.15);\n",
              "      fill: #174EA6;\n",
              "    }\n",
              "\n",
              "    [theme=dark] .colab-df-convert {\n",
              "      background-color: #3B4455;\n",
              "      fill: #D2E3FC;\n",
              "    }\n",
              "\n",
              "    [theme=dark] .colab-df-convert:hover {\n",
              "      background-color: #434B5C;\n",
              "      box-shadow: 0px 1px 3px 1px rgba(0, 0, 0, 0.15);\n",
              "      filter: drop-shadow(0px 1px 2px rgba(0, 0, 0, 0.3));\n",
              "      fill: #FFFFFF;\n",
              "    }\n",
              "  </style>\n",
              "\n",
              "      <script>\n",
              "        const buttonEl =\n",
              "          document.querySelector('#df-5a998664-49b7-4bb4-b475-030097fdb473 button.colab-df-convert');\n",
              "        buttonEl.style.display =\n",
              "          google.colab.kernel.accessAllowed ? 'block' : 'none';\n",
              "\n",
              "        async function convertToInteractive(key) {\n",
              "          const element = document.querySelector('#df-5a998664-49b7-4bb4-b475-030097fdb473');\n",
              "          const dataTable =\n",
              "            await google.colab.kernel.invokeFunction('convertToInteractive',\n",
              "                                                     [key], {});\n",
              "          if (!dataTable) return;\n",
              "\n",
              "          const docLinkHtml = 'Like what you see? Visit the ' +\n",
              "            '<a target=\"_blank\" href=https://colab.research.google.com/notebooks/data_table.ipynb>data table notebook</a>'\n",
              "            + ' to learn more about interactive tables.';\n",
              "          element.innerHTML = '';\n",
              "          dataTable['output_type'] = 'display_data';\n",
              "          await google.colab.output.renderOutput(dataTable, element);\n",
              "          const docLink = document.createElement('div');\n",
              "          docLink.innerHTML = docLinkHtml;\n",
              "          element.appendChild(docLink);\n",
              "        }\n",
              "      </script>\n",
              "    </div>\n",
              "  </div>\n",
              "  "
            ]
          },
          "metadata": {},
          "execution_count": 150
        }
      ]
    },
    {
      "cell_type": "code",
      "source": [
        "#check the dependency and cosntant variance of the Residuals\n",
        "plt.scatter(filtered_df[\"LogMac\"], filtered_df[\"New_Residuals\"])\n",
        "plt.hlines(0, filtered_df[\"LogMac\"].min(), filtered_df[\"LogMac\"].max(), color = \"red\")\n",
        "plt.title(\"Scatter plot for standerdized Residuals\")\n",
        "plt.xlabel(\"logrithem of MACOS\")\n",
        "plt.ylabel(\"Standerdized Residuals\")\n",
        "plt.show()"
      ],
      "metadata": {
        "colab": {
          "base_uri": "https://localhost:8080/",
          "height": 295
        },
        "id": "IP8FtrMwqA8l",
        "outputId": "b468d507-da9a-4c4e-dfac-4ee6e74eda1e"
      },
      "execution_count": 154,
      "outputs": [
        {
          "output_type": "display_data",
          "data": {
            "text/plain": [
              "<Figure size 432x288 with 1 Axes>"
            ],
            "image/png": "[encoded data removed]"
          },
          "metadata": {
            "needs_background": "light"
          }
        }
      ]
    },
    {
      "cell_type": "code",
      "source": [],
      "metadata": {
        "id": "PPgl1YxBq91C"
      },
      "execution_count": 151,
      "outputs": []
    }
  ]
}