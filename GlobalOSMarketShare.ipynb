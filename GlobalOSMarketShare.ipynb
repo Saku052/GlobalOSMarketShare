{
  "nbformat": 4,
  "nbformat_minor": 0,
  "metadata": {
    "colab": {
      "provenance": [],
      "authorship_tag": "ABX9TyNOvVCDGZWie+0wkKrN7EKC",
      "include_colab_link": true
    },
    "kernelspec": {
      "name": "python3",
      "display_name": "Python 3"
    },
    "language_info": {
      "name": "python"
    }
  },
  "cells": [
    {
      "cell_type": "markdown",
      "metadata": {
        "id": "view-in-github",
        "colab_type": "text"
      },
      "source": [
        "<a href=\"https://colab.research.google.com/github/Saku052/GlobalOSMarketShare/blob/main/GlobalOSMarketShare.ipynb\" target=\"_parent\"><img src=\"https://colab.research.google.com/assets/colab-badge.svg\" alt=\"Open In Colab\"/></a>"
      ]
    },
    {
      "cell_type": "code",
      "execution_count": 24,
      "metadata": {
        "id": "HOL-XSzUPHJb"
      },
      "outputs": [],
      "source": [
        "import numpy as np\n",
        "import pandas as pd\n",
        "import matplotlib.pyplot as plt\n",
        "import statsmodels.formula.api as sm\n",
        "import scipy.stats as st"
      ]
    },
    {
      "cell_type": "code",
      "source": [
        "#グローバルマーケットシェアのデータをインポート\n",
        "Orig_df = pd.read_csv(\"/content/gloabal_marketshare.csv\")\n",
        "Orig_df.tail(3)"
      ],
      "metadata": {
        "colab": {
          "base_uri": "https://localhost:8080/",
          "height": 277
        },
        "id": "c7j4IGVePSL4",
        "outputId": "6f892a7a-8d56-4688-a2fc-71c3fb7700c3"
      },
      "execution_count": 25,
      "outputs": [
        {
          "output_type": "execute_result",
          "data": {
            "text/plain": [
              "        Date  WinTotal  Win7  Win10  Win 8.1  Win 8  WinXP  WinVista  Windows  \\\n",
              "114  Jul '21     68.38   NaN    NaN      NaN    NaN    NaN       NaN    68.38   \n",
              "115  Aug '21     71.13   NaN    NaN      NaN    NaN    NaN       NaN    71.13   \n",
              "116  Sep '21     71.06   NaN    NaN      NaN    NaN    NaN       NaN    71.06   \n",
              "\n",
              "     MacOSX   iOS  Android  Tablet  Linux  Chrome OS  Other  \n",
              "114   14.44  3.42     2.77    6.19   2.23       1.13   7.63  \n",
              "115   15.08  3.52     2.85    6.37   2.23       1.62   3.57  \n",
              "116   15.01  3.02     2.51    5.53   2.20       2.44   3.76  "
            ],
            "text/html": [
              "\n",
              "  <div id=\"df-54bcb9ac-f4e1-4168-8c77-657483502abf\">\n",
              "    <div class=\"colab-df-container\">\n",
              "      <div>\n",
              "<style scoped>\n",
              "    .dataframe tbody tr th:only-of-type {\n",
              "        vertical-align: middle;\n",
              "    }\n",
              "\n",
              "    .dataframe tbody tr th {\n",
              "        vertical-align: top;\n",
              "    }\n",
              "\n",
              "    .dataframe thead th {\n",
              "        text-align: right;\n",
              "    }\n",
              "</style>\n",
              "<table border=\"1\" class=\"dataframe\">\n",
              "  <thead>\n",
              "    <tr style=\"text-align: right;\">\n",
              "      <th></th>\n",
              "      <th>Date</th>\n",
              "      <th>WinTotal</th>\n",
              "      <th>Win7</th>\n",
              "      <th>Win10</th>\n",
              "      <th>Win 8.1</th>\n",
              "      <th>Win 8</th>\n",
              "      <th>WinXP</th>\n",
              "      <th>WinVista</th>\n",
              "      <th>Windows</th>\n",
              "      <th>MacOSX</th>\n",
              "      <th>iOS</th>\n",
              "      <th>Android</th>\n",
              "      <th>Tablet</th>\n",
              "      <th>Linux</th>\n",
              "      <th>Chrome OS</th>\n",
              "      <th>Other</th>\n",
              "    </tr>\n",
              "  </thead>\n",
              "  <tbody>\n",
              "    <tr>\n",
              "      <th>114</th>\n",
              "      <td>Jul '21</td>\n",
              "      <td>68.38</td>\n",
              "      <td>NaN</td>\n",
              "      <td>NaN</td>\n",
              "      <td>NaN</td>\n",
              "      <td>NaN</td>\n",
              "      <td>NaN</td>\n",
              "      <td>NaN</td>\n",
              "      <td>68.38</td>\n",
              "      <td>14.44</td>\n",
              "      <td>3.42</td>\n",
              "      <td>2.77</td>\n",
              "      <td>6.19</td>\n",
              "      <td>2.23</td>\n",
              "      <td>1.13</td>\n",
              "      <td>7.63</td>\n",
              "    </tr>\n",
              "    <tr>\n",
              "      <th>115</th>\n",
              "      <td>Aug '21</td>\n",
              "      <td>71.13</td>\n",
              "      <td>NaN</td>\n",
              "      <td>NaN</td>\n",
              "      <td>NaN</td>\n",
              "      <td>NaN</td>\n",
              "      <td>NaN</td>\n",
              "      <td>NaN</td>\n",
              "      <td>71.13</td>\n",
              "      <td>15.08</td>\n",
              "      <td>3.52</td>\n",
              "      <td>2.85</td>\n",
              "      <td>6.37</td>\n",
              "      <td>2.23</td>\n",
              "      <td>1.62</td>\n",
              "      <td>3.57</td>\n",
              "    </tr>\n",
              "    <tr>\n",
              "      <th>116</th>\n",
              "      <td>Sep '21</td>\n",
              "      <td>71.06</td>\n",
              "      <td>NaN</td>\n",
              "      <td>NaN</td>\n",
              "      <td>NaN</td>\n",
              "      <td>NaN</td>\n",
              "      <td>NaN</td>\n",
              "      <td>NaN</td>\n",
              "      <td>71.06</td>\n",
              "      <td>15.01</td>\n",
              "      <td>3.02</td>\n",
              "      <td>2.51</td>\n",
              "      <td>5.53</td>\n",
              "      <td>2.20</td>\n",
              "      <td>2.44</td>\n",
              "      <td>3.76</td>\n",
              "    </tr>\n",
              "  </tbody>\n",
              "</table>\n",
              "</div>\n",
              "      <button class=\"colab-df-convert\" onclick=\"convertToInteractive('df-54bcb9ac-f4e1-4168-8c77-657483502abf')\"\n",
              "              title=\"Convert this dataframe to an interactive table.\"\n",
              "              style=\"display:none;\">\n",
              "        \n",
              "  <svg xmlns=\"http://www.w3.org/2000/svg\" height=\"24px\"viewBox=\"0 0 24 24\"\n",
              "       width=\"24px\">\n",
              "    <path d=\"M0 0h24v24H0V0z\" fill=\"none\"/>\n",
              "    <path d=\"M18.56 5.44l.94 2.06.94-2.06 2.06-.94-2.06-.94-.94-2.06-.94 2.06-2.06.94zm-11 1L8.5 8.5l.94-2.06 2.06-.94-2.06-.94L8.5 2.5l-.94 2.06-2.06.94zm10 10l.94 2.06.94-2.06 2.06-.94-2.06-.94-.94-2.06-.94 2.06-2.06.94z\"/><path d=\"M17.41 7.96l-1.37-1.37c-.4-.4-.92-.59-1.43-.59-.52 0-1.04.2-1.43.59L10.3 9.45l-7.72 7.72c-.78.78-.78 2.05 0 2.83L4 21.41c.39.39.9.59 1.41.59.51 0 1.02-.2 1.41-.59l7.78-7.78 2.81-2.81c.8-.78.8-2.07 0-2.86zM5.41 20L4 18.59l7.72-7.72 1.47 1.35L5.41 20z\"/>\n",
              "  </svg>\n",
              "      </button>\n",
              "      \n",
              "  <style>\n",
              "    .colab-df-container {\n",
              "      display:flex;\n",
              "      flex-wrap:wrap;\n",
              "      gap: 12px;\n",
              "    }\n",
              "\n",
              "    .colab-df-convert {\n",
              "      background-color: #E8F0FE;\n",
              "      border: none;\n",
              "      border-radius: 50%;\n",
              "      cursor: pointer;\n",
              "      display: none;\n",
              "      fill: #1967D2;\n",
              "      height: 32px;\n",
              "      padding: 0 0 0 0;\n",
              "      width: 32px;\n",
              "    }\n",
              "\n",
              "    .colab-df-convert:hover {\n",
              "      background-color: #E2EBFA;\n",
              "      box-shadow: 0px 1px 2px rgba(60, 64, 67, 0.3), 0px 1px 3px 1px rgba(60, 64, 67, 0.15);\n",
              "      fill: #174EA6;\n",
              "    }\n",
              "\n",
              "    [theme=dark] .colab-df-convert {\n",
              "      background-color: #3B4455;\n",
              "      fill: #D2E3FC;\n",
              "    }\n",
              "\n",
              "    [theme=dark] .colab-df-convert:hover {\n",
              "      background-color: #434B5C;\n",
              "      box-shadow: 0px 1px 3px 1px rgba(0, 0, 0, 0.15);\n",
              "      filter: drop-shadow(0px 1px 2px rgba(0, 0, 0, 0.3));\n",
              "      fill: #FFFFFF;\n",
              "    }\n",
              "  </style>\n",
              "\n",
              "      <script>\n",
              "        const buttonEl =\n",
              "          document.querySelector('#df-54bcb9ac-f4e1-4168-8c77-657483502abf button.colab-df-convert');\n",
              "        buttonEl.style.display =\n",
              "          google.colab.kernel.accessAllowed ? 'block' : 'none';\n",
              "\n",
              "        async function convertToInteractive(key) {\n",
              "          const element = document.querySelector('#df-54bcb9ac-f4e1-4168-8c77-657483502abf');\n",
              "          const dataTable =\n",
              "            await google.colab.kernel.invokeFunction('convertToInteractive',\n",
              "                                                     [key], {});\n",
              "          if (!dataTable) return;\n",
              "\n",
              "          const docLinkHtml = 'Like what you see? Visit the ' +\n",
              "            '<a target=\"_blank\" href=https://colab.research.google.com/notebooks/data_table.ipynb>data table notebook</a>'\n",
              "            + ' to learn more about interactive tables.';\n",
              "          element.innerHTML = '';\n",
              "          dataTable['output_type'] = 'display_data';\n",
              "          await google.colab.output.renderOutput(dataTable, element);\n",
              "          const docLink = document.createElement('div');\n",
              "          docLink.innerHTML = docLinkHtml;\n",
              "          element.appendChild(docLink);\n",
              "        }\n",
              "      </script>\n",
              "    </div>\n",
              "  </div>\n",
              "  "
            ]
          },
          "metadata": {},
          "execution_count": 25
        }
      ]
    },
    {
      "cell_type": "code",
      "source": [
        "#必要データだけをまとめる\n",
        "Dropped_df = pd.DataFrame(\n",
        "    data = {\"MacOS\" : Orig_df[\"MacOSX\"].dropna(),\n",
        "            \"WINDOWS\" : Orig_df[\"Windows\"].dropna()}\n",
        ")\n",
        "df = Dropped_df.dropna()\n",
        "df.tail(5)"
      ],
      "metadata": {
        "colab": {
          "base_uri": "https://localhost:8080/",
          "height": 206
        },
        "id": "hGol-yoHSey2",
        "outputId": "7fe67436-2797-4094-c466-06cea8344bd9"
      },
      "execution_count": 26,
      "outputs": [
        {
          "output_type": "execute_result",
          "data": {
            "text/plain": [
              "     MacOS  WINDOWS\n",
              "112  14.87    68.94\n",
              "113  14.16    68.54\n",
              "114  14.44    68.38\n",
              "115  15.08    71.13\n",
              "116  15.01    71.06"
            ],
            "text/html": [
              "\n",
              "  <div id=\"df-a6004648-e4f0-4891-8431-5b94f984e3a6\">\n",
              "    <div class=\"colab-df-container\">\n",
              "      <div>\n",
              "<style scoped>\n",
              "    .dataframe tbody tr th:only-of-type {\n",
              "        vertical-align: middle;\n",
              "    }\n",
              "\n",
              "    .dataframe tbody tr th {\n",
              "        vertical-align: top;\n",
              "    }\n",
              "\n",
              "    .dataframe thead th {\n",
              "        text-align: right;\n",
              "    }\n",
              "</style>\n",
              "<table border=\"1\" class=\"dataframe\">\n",
              "  <thead>\n",
              "    <tr style=\"text-align: right;\">\n",
              "      <th></th>\n",
              "      <th>MacOS</th>\n",
              "      <th>WINDOWS</th>\n",
              "    </tr>\n",
              "  </thead>\n",
              "  <tbody>\n",
              "    <tr>\n",
              "      <th>112</th>\n",
              "      <td>14.87</td>\n",
              "      <td>68.94</td>\n",
              "    </tr>\n",
              "    <tr>\n",
              "      <th>113</th>\n",
              "      <td>14.16</td>\n",
              "      <td>68.54</td>\n",
              "    </tr>\n",
              "    <tr>\n",
              "      <th>114</th>\n",
              "      <td>14.44</td>\n",
              "      <td>68.38</td>\n",
              "    </tr>\n",
              "    <tr>\n",
              "      <th>115</th>\n",
              "      <td>15.08</td>\n",
              "      <td>71.13</td>\n",
              "    </tr>\n",
              "    <tr>\n",
              "      <th>116</th>\n",
              "      <td>15.01</td>\n",
              "      <td>71.06</td>\n",
              "    </tr>\n",
              "  </tbody>\n",
              "</table>\n",
              "</div>\n",
              "      <button class=\"colab-df-convert\" onclick=\"convertToInteractive('df-a6004648-e4f0-4891-8431-5b94f984e3a6')\"\n",
              "              title=\"Convert this dataframe to an interactive table.\"\n",
              "              style=\"display:none;\">\n",
              "        \n",
              "  <svg xmlns=\"http://www.w3.org/2000/svg\" height=\"24px\"viewBox=\"0 0 24 24\"\n",
              "       width=\"24px\">\n",
              "    <path d=\"M0 0h24v24H0V0z\" fill=\"none\"/>\n",
              "    <path d=\"M18.56 5.44l.94 2.06.94-2.06 2.06-.94-2.06-.94-.94-2.06-.94 2.06-2.06.94zm-11 1L8.5 8.5l.94-2.06 2.06-.94-2.06-.94L8.5 2.5l-.94 2.06-2.06.94zm10 10l.94 2.06.94-2.06 2.06-.94-2.06-.94-.94-2.06-.94 2.06-2.06.94z\"/><path d=\"M17.41 7.96l-1.37-1.37c-.4-.4-.92-.59-1.43-.59-.52 0-1.04.2-1.43.59L10.3 9.45l-7.72 7.72c-.78.78-.78 2.05 0 2.83L4 21.41c.39.39.9.59 1.41.59.51 0 1.02-.2 1.41-.59l7.78-7.78 2.81-2.81c.8-.78.8-2.07 0-2.86zM5.41 20L4 18.59l7.72-7.72 1.47 1.35L5.41 20z\"/>\n",
              "  </svg>\n",
              "      </button>\n",
              "      \n",
              "  <style>\n",
              "    .colab-df-container {\n",
              "      display:flex;\n",
              "      flex-wrap:wrap;\n",
              "      gap: 12px;\n",
              "    }\n",
              "\n",
              "    .colab-df-convert {\n",
              "      background-color: #E8F0FE;\n",
              "      border: none;\n",
              "      border-radius: 50%;\n",
              "      cursor: pointer;\n",
              "      display: none;\n",
              "      fill: #1967D2;\n",
              "      height: 32px;\n",
              "      padding: 0 0 0 0;\n",
              "      width: 32px;\n",
              "    }\n",
              "\n",
              "    .colab-df-convert:hover {\n",
              "      background-color: #E2EBFA;\n",
              "      box-shadow: 0px 1px 2px rgba(60, 64, 67, 0.3), 0px 1px 3px 1px rgba(60, 64, 67, 0.15);\n",
              "      fill: #174EA6;\n",
              "    }\n",
              "\n",
              "    [theme=dark] .colab-df-convert {\n",
              "      background-color: #3B4455;\n",
              "      fill: #D2E3FC;\n",
              "    }\n",
              "\n",
              "    [theme=dark] .colab-df-convert:hover {\n",
              "      background-color: #434B5C;\n",
              "      box-shadow: 0px 1px 3px 1px rgba(0, 0, 0, 0.15);\n",
              "      filter: drop-shadow(0px 1px 2px rgba(0, 0, 0, 0.3));\n",
              "      fill: #FFFFFF;\n",
              "    }\n",
              "  </style>\n",
              "\n",
              "      <script>\n",
              "        const buttonEl =\n",
              "          document.querySelector('#df-a6004648-e4f0-4891-8431-5b94f984e3a6 button.colab-df-convert');\n",
              "        buttonEl.style.display =\n",
              "          google.colab.kernel.accessAllowed ? 'block' : 'none';\n",
              "\n",
              "        async function convertToInteractive(key) {\n",
              "          const element = document.querySelector('#df-a6004648-e4f0-4891-8431-5b94f984e3a6');\n",
              "          const dataTable =\n",
              "            await google.colab.kernel.invokeFunction('convertToInteractive',\n",
              "                                                     [key], {});\n",
              "          if (!dataTable) return;\n",
              "\n",
              "          const docLinkHtml = 'Like what you see? Visit the ' +\n",
              "            '<a target=\"_blank\" href=https://colab.research.google.com/notebooks/data_table.ipynb>data table notebook</a>'\n",
              "            + ' to learn more about interactive tables.';\n",
              "          element.innerHTML = '';\n",
              "          dataTable['output_type'] = 'display_data';\n",
              "          await google.colab.output.renderOutput(dataTable, element);\n",
              "          const docLink = document.createElement('div');\n",
              "          docLink.innerHTML = docLinkHtml;\n",
              "          element.appendChild(docLink);\n",
              "        }\n",
              "      </script>\n",
              "    </div>\n",
              "  </div>\n",
              "  "
            ]
          },
          "metadata": {},
          "execution_count": 26
        }
      ]
    },
    {
      "cell_type": "code",
      "source": [
        "#離散図の描写\n",
        "plt.scatter(df[\"MacOS\"], df[\"WINDOWS\"])\n",
        "plt.xlabel(\"Market share of MacOS\")\n",
        "plt.ylabel(\"Market share of Windows\")\n",
        "plt.title(\"The relationship of market share between MacOS and Windows\")\n",
        "plt.show()"
      ],
      "metadata": {
        "colab": {
          "base_uri": "https://localhost:8080/",
          "height": 295
        },
        "id": "vWBl96S7YoWr",
        "outputId": "921647c4-6e0c-4809-b671-911f6c42bd74"
      },
      "execution_count": 27,
      "outputs": [
        {
          "output_type": "display_data",
          "data": {
            "text/plain": [
              "<Figure size 432x288 with 1 Axes>"
            ],
            "image/png": "[encoded data removed]"
          },
          "metadata": {
            "needs_background": "light"
          }
        }
      ]
    },
    {
      "cell_type": "code",
      "source": [
        "#MacOSのLOGをとった新たな変数の作成\n",
        "df[\"LogMac\"] = np.log(df[\"MacOS\"])\n",
        "\n",
        "#離散図の描写\n",
        "plt.scatter(df[\"LogMac\"], df[\"WINDOWS\"])\n",
        "plt.xlabel(\"Market share of logorithem of MacOS\")\n",
        "plt.ylabel(\"Market share of Windows\")\n",
        "plt.title(\"The relationship of market share between logorithem of MacOS and Windows\")\n",
        "plt.show()"
      ],
      "metadata": {
        "colab": {
          "base_uri": "https://localhost:8080/",
          "height": 295
        },
        "id": "shK5H2yFZ80Y",
        "outputId": "72467052-b821-47c0-ace6-3add509e3075"
      },
      "execution_count": 28,
      "outputs": [
        {
          "output_type": "display_data",
          "data": {
            "text/plain": [
              "<Figure size 432x288 with 1 Axes>"
            ],
            "image/png": "[encoded data removed]"
          },
          "metadata": {
            "needs_background": "light"
          }
        }
      ]
    },
    {
      "cell_type": "code",
      "source": [
        "#モデルの生成\n",
        "model = sm.ols(\"WINDOWS~LogMac\", df).fit()\n",
        "print(model.summary2())"
      ],
      "metadata": {
        "colab": {
          "base_uri": "https://localhost:8080/"
        },
        "id": "g-tw08KzbAHK",
        "outputId": "4e9287ac-ce93-4761-93d3-d9db8cbce077"
      },
      "execution_count": 29,
      "outputs": [
        {
          "output_type": "stream",
          "name": "stdout",
          "text": [
            "                 Results: Ordinary least squares\n",
            "=================================================================\n",
            "Model:              OLS              Adj. R-squared:     0.727   \n",
            "Dependent Variable: WINDOWS          AIC:                593.9172\n",
            "Date:               2022-11-24 12:08 BIC:                599.4416\n",
            "No. Observations:   117              Log-Likelihood:     -294.96 \n",
            "Df Model:           1                F-statistic:        309.8   \n",
            "Df Residuals:       115              Prob (F-statistic): 2.03e-34\n",
            "R-squared:          0.729            Scale:              9.2202  \n",
            "-----------------------------------------------------------------\n",
            "               Coef.   Std.Err.    t     P>|t|   [0.025   0.975] \n",
            "-----------------------------------------------------------------\n",
            "Intercept     117.5535   2.2947  51.2291 0.0000 113.0082 122.0988\n",
            "LogMac        -17.2562   0.9804 -17.6007 0.0000 -19.1982 -15.3141\n",
            "-----------------------------------------------------------------\n",
            "Omnibus:               0.266        Durbin-Watson:          0.252\n",
            "Prob(Omnibus):         0.876        Jarque-Bera (JB):       0.055\n",
            "Skew:                  -0.033       Prob(JB):               0.973\n",
            "Kurtosis:              3.084        Condition No.:          23   \n",
            "=================================================================\n",
            "\n"
          ]
        }
      ]
    },
    {
      "cell_type": "markdown",
      "source": [
        "回帰の有意性を確かめる為の帰無仮説を立てる\n",
        "\n",
        "\n",
        "\n",
        "*   H_0 : beta = 0\n",
        "*   H_A : beta != 0\n",
        "\n",
        "\n",
        "\n",
        "\n",
        "\n",
        "t statistics = 51.2291\n",
        "\n",
        "p value = 0.000\n",
        "\n",
        "p value < 0.05 により、帰無仮説は棄却され対立仮説が採択される。\n",
        "よって、この回帰は有意性をもつ。"
      ],
      "metadata": {
        "id": "6rCGskavfJoL"
      }
    },
    {
      "cell_type": "markdown",
      "source": [
        "ここで、R^2 = 0.727 である事から、モデルの信頼度がそこまで高くない事が分かる。\n",
        "\n",
        "よって先ずは、クックの距離から外れ値の除去を行う"
      ],
      "metadata": {
        "id": "bUWV6IFgfNme"
      }
    },
    {
      "cell_type": "code",
      "source": [
        "#クックの距離から外れ値を測定する\n",
        "df_infl = model.get_influence().summary_frame()\n",
        "plt.boxplot(df_infl[\"cooks_d\"])\n",
        "plt.title(\"cooks distance\")\n",
        "plt.show()"
      ],
      "metadata": {
        "colab": {
          "base_uri": "https://localhost:8080/",
          "height": 281
        },
        "id": "gcjSDs0EfWAe",
        "outputId": "c3b4a0c5-c528-4bfa-def3-4a139489015f"
      },
      "execution_count": 30,
      "outputs": [
        {
          "output_type": "display_data",
          "data": {
            "text/plain": [
              "<Figure size 432x288 with 1 Axes>"
            ],
            "image/png": "[encoded data removed]"
          },
          "metadata": {
            "needs_background": "light"
          }
        }
      ]
    },
    {
      "cell_type": "code",
      "source": [
        "#クックの距離0.03を超えているデータをドロップ\n",
        "def getindexOutliear(cooksd):\n",
        "  outlier = cooksd[(cooksd > 0.03)]\n",
        "  return outlier.index\n",
        "\n",
        "filtered_df = df.drop(getindexOutliear(df_infl[\"cooks_d\"]))\n",
        "filtered_df.reset_index(inplace=True)\n",
        "filtered_df.tail(3)"
      ],
      "metadata": {
        "colab": {
          "base_uri": "https://localhost:8080/",
          "height": 143
        },
        "id": "SgeX3hEKf3Ab",
        "outputId": "40ac9c31-4688-44ed-ee02-922b5ed6d3cb"
      },
      "execution_count": 31,
      "outputs": [
        {
          "output_type": "execute_result",
          "data": {
            "text/plain": [
              "     index  MacOS  WINDOWS    LogMac\n",
              "104    114  14.44    68.38  2.670002\n",
              "105    115  15.08    71.13  2.713369\n",
              "106    116  15.01    71.06  2.708717"
            ],
            "text/html": [
              "\n",
              "  <div id=\"df-cb2564fd-d082-4463-88cc-48a4eee23270\">\n",
              "    <div class=\"colab-df-container\">\n",
              "      <div>\n",
              "<style scoped>\n",
              "    .dataframe tbody tr th:only-of-type {\n",
              "        vertical-align: middle;\n",
              "    }\n",
              "\n",
              "    .dataframe tbody tr th {\n",
              "        vertical-align: top;\n",
              "    }\n",
              "\n",
              "    .dataframe thead th {\n",
              "        text-align: right;\n",
              "    }\n",
              "</style>\n",
              "<table border=\"1\" class=\"dataframe\">\n",
              "  <thead>\n",
              "    <tr style=\"text-align: right;\">\n",
              "      <th></th>\n",
              "      <th>index</th>\n",
              "      <th>MacOS</th>\n",
              "      <th>WINDOWS</th>\n",
              "      <th>LogMac</th>\n",
              "    </tr>\n",
              "  </thead>\n",
              "  <tbody>\n",
              "    <tr>\n",
              "      <th>104</th>\n",
              "      <td>114</td>\n",
              "      <td>14.44</td>\n",
              "      <td>68.38</td>\n",
              "      <td>2.670002</td>\n",
              "    </tr>\n",
              "    <tr>\n",
              "      <th>105</th>\n",
              "      <td>115</td>\n",
              "      <td>15.08</td>\n",
              "      <td>71.13</td>\n",
              "      <td>2.713369</td>\n",
              "    </tr>\n",
              "    <tr>\n",
              "      <th>106</th>\n",
              "      <td>116</td>\n",
              "      <td>15.01</td>\n",
              "      <td>71.06</td>\n",
              "      <td>2.708717</td>\n",
              "    </tr>\n",
              "  </tbody>\n",
              "</table>\n",
              "</div>\n",
              "      <button class=\"colab-df-convert\" onclick=\"convertToInteractive('df-cb2564fd-d082-4463-88cc-48a4eee23270')\"\n",
              "              title=\"Convert this dataframe to an interactive table.\"\n",
              "              style=\"display:none;\">\n",
              "        \n",
              "  <svg xmlns=\"http://www.w3.org/2000/svg\" height=\"24px\"viewBox=\"0 0 24 24\"\n",
              "       width=\"24px\">\n",
              "    <path d=\"M0 0h24v24H0V0z\" fill=\"none\"/>\n",
              "    <path d=\"M18.56 5.44l.94 2.06.94-2.06 2.06-.94-2.06-.94-.94-2.06-.94 2.06-2.06.94zm-11 1L8.5 8.5l.94-2.06 2.06-.94-2.06-.94L8.5 2.5l-.94 2.06-2.06.94zm10 10l.94 2.06.94-2.06 2.06-.94-2.06-.94-.94-2.06-.94 2.06-2.06.94z\"/><path d=\"M17.41 7.96l-1.37-1.37c-.4-.4-.92-.59-1.43-.59-.52 0-1.04.2-1.43.59L10.3 9.45l-7.72 7.72c-.78.78-.78 2.05 0 2.83L4 21.41c.39.39.9.59 1.41.59.51 0 1.02-.2 1.41-.59l7.78-7.78 2.81-2.81c.8-.78.8-2.07 0-2.86zM5.41 20L4 18.59l7.72-7.72 1.47 1.35L5.41 20z\"/>\n",
              "  </svg>\n",
              "      </button>\n",
              "      \n",
              "  <style>\n",
              "    .colab-df-container {\n",
              "      display:flex;\n",
              "      flex-wrap:wrap;\n",
              "      gap: 12px;\n",
              "    }\n",
              "\n",
              "    .colab-df-convert {\n",
              "      background-color: #E8F0FE;\n",
              "      border: none;\n",
              "      border-radius: 50%;\n",
              "      cursor: pointer;\n",
              "      display: none;\n",
              "      fill: #1967D2;\n",
              "      height: 32px;\n",
              "      padding: 0 0 0 0;\n",
              "      width: 32px;\n",
              "    }\n",
              "\n",
              "    .colab-df-convert:hover {\n",
              "      background-color: #E2EBFA;\n",
              "      box-shadow: 0px 1px 2px rgba(60, 64, 67, 0.3), 0px 1px 3px 1px rgba(60, 64, 67, 0.15);\n",
              "      fill: #174EA6;\n",
              "    }\n",
              "\n",
              "    [theme=dark] .colab-df-convert {\n",
              "      background-color: #3B4455;\n",
              "      fill: #D2E3FC;\n",
              "    }\n",
              "\n",
              "    [theme=dark] .colab-df-convert:hover {\n",
              "      background-color: #434B5C;\n",
              "      box-shadow: 0px 1px 3px 1px rgba(0, 0, 0, 0.15);\n",
              "      filter: drop-shadow(0px 1px 2px rgba(0, 0, 0, 0.3));\n",
              "      fill: #FFFFFF;\n",
              "    }\n",
              "  </style>\n",
              "\n",
              "      <script>\n",
              "        const buttonEl =\n",
              "          document.querySelector('#df-cb2564fd-d082-4463-88cc-48a4eee23270 button.colab-df-convert');\n",
              "        buttonEl.style.display =\n",
              "          google.colab.kernel.accessAllowed ? 'block' : 'none';\n",
              "\n",
              "        async function convertToInteractive(key) {\n",
              "          const element = document.querySelector('#df-cb2564fd-d082-4463-88cc-48a4eee23270');\n",
              "          const dataTable =\n",
              "            await google.colab.kernel.invokeFunction('convertToInteractive',\n",
              "                                                     [key], {});\n",
              "          if (!dataTable) return;\n",
              "\n",
              "          const docLinkHtml = 'Like what you see? Visit the ' +\n",
              "            '<a target=\"_blank\" href=https://colab.research.google.com/notebooks/data_table.ipynb>data table notebook</a>'\n",
              "            + ' to learn more about interactive tables.';\n",
              "          element.innerHTML = '';\n",
              "          dataTable['output_type'] = 'display_data';\n",
              "          await google.colab.output.renderOutput(dataTable, element);\n",
              "          const docLink = document.createElement('div');\n",
              "          docLink.innerHTML = docLinkHtml;\n",
              "          element.appendChild(docLink);\n",
              "        }\n",
              "      </script>\n",
              "    </div>\n",
              "  </div>\n",
              "  "
            ]
          },
          "metadata": {},
          "execution_count": 31
        }
      ]
    },
    {
      "cell_type": "code",
      "source": [
        "#新規モデルの生成\n",
        "model2 = sm.ols(\"WINDOWS~LogMac\", filtered_df).fit()\n",
        "print(model2.summary2())"
      ],
      "metadata": {
        "colab": {
          "base_uri": "https://localhost:8080/"
        },
        "id": "52SBM4hUgAv-",
        "outputId": "f3704985-9a91-4983-99ac-bef84306fdf3"
      },
      "execution_count": 32,
      "outputs": [
        {
          "output_type": "stream",
          "name": "stdout",
          "text": [
            "                 Results: Ordinary least squares\n",
            "=================================================================\n",
            "Model:              OLS              Adj. R-squared:     0.764   \n",
            "Dependent Variable: WINDOWS          AIC:                509.2752\n",
            "Date:               2022-11-24 12:08 BIC:                514.6209\n",
            "No. Observations:   107              Log-Likelihood:     -252.64 \n",
            "Df Model:           1                F-statistic:        343.7   \n",
            "Df Residuals:       105              Prob (F-statistic): 6.82e-35\n",
            "R-squared:          0.766            Scale:              6.7073  \n",
            "-----------------------------------------------------------------\n",
            "               Coef.   Std.Err.    t     P>|t|   [0.025   0.975] \n",
            "-----------------------------------------------------------------\n",
            "Intercept     116.6425   2.1403  54.4986 0.0000 112.3987 120.8863\n",
            "LogMac        -17.0061   0.9174 -18.5381 0.0000 -18.8251 -15.1872\n",
            "-----------------------------------------------------------------\n",
            "Omnibus:              1.734        Durbin-Watson:           0.255\n",
            "Prob(Omnibus):        0.420        Jarque-Bera (JB):        1.630\n",
            "Skew:                 0.199        Prob(JB):                0.443\n",
            "Kurtosis:             2.545        Condition No.:           24   \n",
            "=================================================================\n",
            "\n"
          ]
        }
      ]
    },
    {
      "cell_type": "markdown",
      "source": [
        "外れ値を除去したことによってR^2は0.037上昇し、0.764になった。\n",
        "\n",
        "この事から回帰モデルの正確性の面では不安が残るという事が言える。結果から見れば、このモデルには深刻なデータ不足が根本的な問題点であることが分かり、更なるデータの取得が求められる。"
      ],
      "metadata": {
        "id": "jICl8qOwgC9r"
      }
    },
    {
      "cell_type": "markdown",
      "source": [
        "次に、データの残差の正規性と偏差についての検証をしていく。\n",
        "\n",
        "上記の回帰はOLSによって導かれているが、これは仮のものであり、偏差や正規性が保たれていなければ、WLS,GLSを使用しなければならない。"
      ],
      "metadata": {
        "id": "DWArVsCZh7uU"
      }
    },
    {
      "cell_type": "code",
      "source": [
        "#Windows_hatの生成と、残差の計算\n",
        "filtered_df[\"Win_pred\"] = model2.predict(filtered_df)\n",
        "filtered_df[\"Residuals\"] = filtered_df[\"Win_pred\"] - filtered_df[\"WINDOWS\"]\n",
        "filtered_df.tail(3)"
      ],
      "metadata": {
        "colab": {
          "base_uri": "https://localhost:8080/",
          "height": 143
        },
        "id": "gup5MNkgeR8z",
        "outputId": "02f13ed0-84d5-43d4-bdf2-8e19cb1865d8"
      },
      "execution_count": 33,
      "outputs": [
        {
          "output_type": "execute_result",
          "data": {
            "text/plain": [
              "     index  MacOS  WINDOWS    LogMac   Win_pred  Residuals\n",
              "104    114  14.44    68.38  2.670002  71.236107   2.856107\n",
              "105    115  15.08    71.13  2.713369  70.498598  -0.631402\n",
              "106    116  15.01    71.06  2.708717  70.577723  -0.482277"
            ],
            "text/html": [
              "\n",
              "  <div id=\"df-ff740be6-9a51-4fff-b3e7-cc28ed0313a1\">\n",
              "    <div class=\"colab-df-container\">\n",
              "      <div>\n",
              "<style scoped>\n",
              "    .dataframe tbody tr th:only-of-type {\n",
              "        vertical-align: middle;\n",
              "    }\n",
              "\n",
              "    .dataframe tbody tr th {\n",
              "        vertical-align: top;\n",
              "    }\n",
              "\n",
              "    .dataframe thead th {\n",
              "        text-align: right;\n",
              "    }\n",
              "</style>\n",
              "<table border=\"1\" class=\"dataframe\">\n",
              "  <thead>\n",
              "    <tr style=\"text-align: right;\">\n",
              "      <th></th>\n",
              "      <th>index</th>\n",
              "      <th>MacOS</th>\n",
              "      <th>WINDOWS</th>\n",
              "      <th>LogMac</th>\n",
              "      <th>Win_pred</th>\n",
              "      <th>Residuals</th>\n",
              "    </tr>\n",
              "  </thead>\n",
              "  <tbody>\n",
              "    <tr>\n",
              "      <th>104</th>\n",
              "      <td>114</td>\n",
              "      <td>14.44</td>\n",
              "      <td>68.38</td>\n",
              "      <td>2.670002</td>\n",
              "      <td>71.236107</td>\n",
              "      <td>2.856107</td>\n",
              "    </tr>\n",
              "    <tr>\n",
              "      <th>105</th>\n",
              "      <td>115</td>\n",
              "      <td>15.08</td>\n",
              "      <td>71.13</td>\n",
              "      <td>2.713369</td>\n",
              "      <td>70.498598</td>\n",
              "      <td>-0.631402</td>\n",
              "    </tr>\n",
              "    <tr>\n",
              "      <th>106</th>\n",
              "      <td>116</td>\n",
              "      <td>15.01</td>\n",
              "      <td>71.06</td>\n",
              "      <td>2.708717</td>\n",
              "      <td>70.577723</td>\n",
              "      <td>-0.482277</td>\n",
              "    </tr>\n",
              "  </tbody>\n",
              "</table>\n",
              "</div>\n",
              "      <button class=\"colab-df-convert\" onclick=\"convertToInteractive('df-ff740be6-9a51-4fff-b3e7-cc28ed0313a1')\"\n",
              "              title=\"Convert this dataframe to an interactive table.\"\n",
              "              style=\"display:none;\">\n",
              "        \n",
              "  <svg xmlns=\"http://www.w3.org/2000/svg\" height=\"24px\"viewBox=\"0 0 24 24\"\n",
              "       width=\"24px\">\n",
              "    <path d=\"M0 0h24v24H0V0z\" fill=\"none\"/>\n",
              "    <path d=\"M18.56 5.44l.94 2.06.94-2.06 2.06-.94-2.06-.94-.94-2.06-.94 2.06-2.06.94zm-11 1L8.5 8.5l.94-2.06 2.06-.94-2.06-.94L8.5 2.5l-.94 2.06-2.06.94zm10 10l.94 2.06.94-2.06 2.06-.94-2.06-.94-.94-2.06-.94 2.06-2.06.94z\"/><path d=\"M17.41 7.96l-1.37-1.37c-.4-.4-.92-.59-1.43-.59-.52 0-1.04.2-1.43.59L10.3 9.45l-7.72 7.72c-.78.78-.78 2.05 0 2.83L4 21.41c.39.39.9.59 1.41.59.51 0 1.02-.2 1.41-.59l7.78-7.78 2.81-2.81c.8-.78.8-2.07 0-2.86zM5.41 20L4 18.59l7.72-7.72 1.47 1.35L5.41 20z\"/>\n",
              "  </svg>\n",
              "      </button>\n",
              "      \n",
              "  <style>\n",
              "    .colab-df-container {\n",
              "      display:flex;\n",
              "      flex-wrap:wrap;\n",
              "      gap: 12px;\n",
              "    }\n",
              "\n",
              "    .colab-df-convert {\n",
              "      background-color: #E8F0FE;\n",
              "      border: none;\n",
              "      border-radius: 50%;\n",
              "      cursor: pointer;\n",
              "      display: none;\n",
              "      fill: #1967D2;\n",
              "      height: 32px;\n",
              "      padding: 0 0 0 0;\n",
              "      width: 32px;\n",
              "    }\n",
              "\n",
              "    .colab-df-convert:hover {\n",
              "      background-color: #E2EBFA;\n",
              "      box-shadow: 0px 1px 2px rgba(60, 64, 67, 0.3), 0px 1px 3px 1px rgba(60, 64, 67, 0.15);\n",
              "      fill: #174EA6;\n",
              "    }\n",
              "\n",
              "    [theme=dark] .colab-df-convert {\n",
              "      background-color: #3B4455;\n",
              "      fill: #D2E3FC;\n",
              "    }\n",
              "\n",
              "    [theme=dark] .colab-df-convert:hover {\n",
              "      background-color: #434B5C;\n",
              "      box-shadow: 0px 1px 3px 1px rgba(0, 0, 0, 0.15);\n",
              "      filter: drop-shadow(0px 1px 2px rgba(0, 0, 0, 0.3));\n",
              "      fill: #FFFFFF;\n",
              "    }\n",
              "  </style>\n",
              "\n",
              "      <script>\n",
              "        const buttonEl =\n",
              "          document.querySelector('#df-ff740be6-9a51-4fff-b3e7-cc28ed0313a1 button.colab-df-convert');\n",
              "        buttonEl.style.display =\n",
              "          google.colab.kernel.accessAllowed ? 'block' : 'none';\n",
              "\n",
              "        async function convertToInteractive(key) {\n",
              "          const element = document.querySelector('#df-ff740be6-9a51-4fff-b3e7-cc28ed0313a1');\n",
              "          const dataTable =\n",
              "            await google.colab.kernel.invokeFunction('convertToInteractive',\n",
              "                                                     [key], {});\n",
              "          if (!dataTable) return;\n",
              "\n",
              "          const docLinkHtml = 'Like what you see? Visit the ' +\n",
              "            '<a target=\"_blank\" href=https://colab.research.google.com/notebooks/data_table.ipynb>data table notebook</a>'\n",
              "            + ' to learn more about interactive tables.';\n",
              "          element.innerHTML = '';\n",
              "          dataTable['output_type'] = 'display_data';\n",
              "          await google.colab.output.renderOutput(dataTable, element);\n",
              "          const docLink = document.createElement('div');\n",
              "          docLink.innerHTML = docLinkHtml;\n",
              "          element.appendChild(docLink);\n",
              "        }\n",
              "      </script>\n",
              "    </div>\n",
              "  </div>\n",
              "  "
            ]
          },
          "metadata": {},
          "execution_count": 33
        }
      ]
    },
    {
      "cell_type": "markdown",
      "source": [
        "先ず、残差の正規性を検証する為にシャピロ-ウィルク検定を行る\n",
        "\n",
        "\n",
        "\n",
        "> シャピロ-ウィルク検定\n",
        "\n",
        "帰無仮説 H_0 : データが正規分布に従う\n",
        "\n",
        "対立仮説 H_A : データが正規分布に従わない\n",
        "\n",
        "有意水準0.05でこの検定を行う\n"
      ],
      "metadata": {
        "id": "dK8C85q2lZpf"
      }
    },
    {
      "cell_type": "code",
      "source": [
        "st.shapiro(filtered_df[\"Residuals\"])"
      ],
      "metadata": {
        "colab": {
          "base_uri": "https://localhost:8080/"
        },
        "id": "xbHbTNsrjeia",
        "outputId": "91c22c78-ce4e-49d1-d8ec-f34f9649e818"
      },
      "execution_count": 40,
      "outputs": [
        {
          "output_type": "execute_result",
          "data": {
            "text/plain": [
              "ShapiroResult(statistic=0.9793999195098877, pvalue=0.09533452242612839)"
            ]
          },
          "metadata": {},
          "execution_count": 40
        }
      ]
    },
    {
      "cell_type": "markdown",
      "source": [
        "結果\n",
        "\n",
        "t statistic = 0.98\n",
        "\n",
        "p value = 0.09\n",
        "\n",
        "p value > 0.05 よって帰無仮説が受容され、残差の正規性に関してはこれだけだと結論付けられない。"
      ],
      "metadata": {
        "id": "0jGZMs7nmFeP"
      }
    },
    {
      "cell_type": "markdown",
      "source": [
        "次に正規性の検証の為、ヒストグラムとQQプロットを使用する。"
      ],
      "metadata": {
        "id": "2pV3g1oRmvth"
      }
    },
    {
      "cell_type": "code",
      "source": [
        "#正規分布の生成と、残差の正規性\n",
        "filtered_df[\"Residuals\"] = st.zscore(filtered_df[\"Residuals\"])\n",
        "\n",
        "def CreateNDist(data):\n",
        "  n_norm = np.linspace(data.min(), data.max(), 1000)\n",
        "  p_norm = []\n",
        "  for i in range(len(n_norm)):\n",
        "    p_norm.append(st.norm.pdf(x = n_norm[i], loc = 0, scale = 1))\n",
        "  return n_norm, p_norm\n",
        "\n",
        "n, p = CreateNDist(filtered_df[\"Residuals\"])"
      ],
      "metadata": {
        "id": "pcUC7RtBe_NJ"
      },
      "execution_count": 35,
      "outputs": []
    },
    {
      "cell_type": "code",
      "source": [
        "#分布の描写\n",
        "plt.hist(filtered_df[\"Residuals\"], density = True, bins = 20)\n",
        "plt.plot(n, p, color = \"red\")\n",
        "plt.title(\"Normality of residuals\")\n",
        "plt.xlabel(\"residuals\")\n",
        "plt.ylabel(\"density\")\n",
        "plt.show()"
      ],
      "metadata": {
        "colab": {
          "base_uri": "https://localhost:8080/",
          "height": 295
        },
        "id": "mNaTeBI4hdXD",
        "outputId": "a7d38cab-038a-4ac5-c810-a8050c701848"
      },
      "execution_count": 36,
      "outputs": [
        {
          "output_type": "display_data",
          "data": {
            "text/plain": [
              "<Figure size 432x288 with 1 Axes>"
            ],
            "image/png": "[encoded data removed]"
          },
          "metadata": {
            "needs_background": "light"
          }
        }
      ]
    },
    {
      "cell_type": "code",
      "source": [
        "#Q-Q plotから正規性を判断する\n",
        "st.probplot(filtered_df[\"Residuals\"], dist = \"norm\", plot = plt)\n",
        "plt.show()"
      ],
      "metadata": {
        "colab": {
          "base_uri": "https://localhost:8080/",
          "height": 295
        },
        "id": "6AgGxLRqhn8-",
        "outputId": "666b52e1-5b78-42ab-a7b2-c1eeb9f6f6d2"
      },
      "execution_count": 37,
      "outputs": [
        {
          "output_type": "display_data",
          "data": {
            "text/plain": [
              "<Figure size 432x288 with 1 Axes>"
            ],
            "image/png": "[encoded data removed]"
          },
          "metadata": {
            "needs_background": "light"
          }
        }
      ]
    },
    {
      "cell_type": "markdown",
      "source": [
        "上記の結果から、残差に正規性はあると結論付けられる。ヒストグラム単体で見ると、多少のズレは確認できるが、QQプロットからは殆どズレは感じられない。"
      ],
      "metadata": {
        "id": "yWY8GI4MnIxn"
      }
    },
    {
      "cell_type": "code",
      "source": [
        "#残差VSlogMACの描写\n",
        "plt.scatter(filtered_df[\"LogMac\"], filtered_df[\"Residuals\"])\n",
        "plt.hlines(0, filtered_df[\"LogMac\"].min(), filtered_df[\"LogMac\"].max(), color = \"red\")\n",
        "plt.title(\"Scatter plot for Residuals\")\n",
        "plt.xlabel(\"logrithem of MACOS\")\n",
        "plt.ylabel(\"Residuals\")\n",
        "plt.show()"
      ],
      "metadata": {
        "colab": {
          "base_uri": "https://localhost:8080/",
          "height": 295
        },
        "id": "aIL_7cINh9AO",
        "outputId": "5c0d4141-b4db-4968-afcf-b1819de93aac"
      },
      "execution_count": 44,
      "outputs": [
        {
          "output_type": "display_data",
          "data": {
            "text/plain": [
              "<Figure size 432x288 with 1 Axes>"
            ],
            "image/png": "[encoded data removed]"
          },
          "metadata": {
            "needs_background": "light"
          }
        }
      ]
    },
    {
      "cell_type": "code",
      "source": [
        "#新規モデルの生成\n",
        "model3 = sm.gls(\"WINDOWS~LogMac\", filtered_df).fit()\n",
        "print(model3.summary2())"
      ],
      "metadata": {
        "colab": {
          "base_uri": "https://localhost:8080/"
        },
        "id": "05B3fTs6n8S0",
        "outputId": "f10a0cbf-d924-4b53-808d-f968fb598209"
      },
      "execution_count": 51,
      "outputs": [
        {
          "output_type": "stream",
          "name": "stdout",
          "text": [
            "               Results: Generalized least squares\n",
            "=================================================================\n",
            "Model:              GLS              Adj. R-squared:     0.764   \n",
            "Dependent Variable: WINDOWS          AIC:                509.2752\n",
            "Date:               2022-11-24 12:36 BIC:                514.6209\n",
            "No. Observations:   107              Log-Likelihood:     -252.64 \n",
            "Df Model:           1                F-statistic:        343.7   \n",
            "Df Residuals:       105              Prob (F-statistic): 6.82e-35\n",
            "R-squared:          0.766            Scale:              6.7073  \n",
            "-----------------------------------------------------------------\n",
            "               Coef.   Std.Err.    t     P>|t|   [0.025   0.975] \n",
            "-----------------------------------------------------------------\n",
            "Intercept     116.6425   2.1403  54.4986 0.0000 112.3987 120.8863\n",
            "LogMac        -17.0061   0.9174 -18.5381 0.0000 -18.8251 -15.1872\n",
            "-----------------------------------------------------------------\n",
            "Omnibus:              1.734        Durbin-Watson:           0.255\n",
            "Prob(Omnibus):        0.420        Jarque-Bera (JB):        1.630\n",
            "Skew:                 0.199        Prob(JB):                0.443\n",
            "Kurtosis:             2.545        Condition No.:           24   \n",
            "=================================================================\n",
            "\n"
          ]
        }
      ]
    },
    {
      "cell_type": "code",
      "source": [
        "#モデル3のWindows_hatの生成と、残差の計算\n",
        "filtered_df[\"New_Win_pred\"] = model3.predict(filtered_df)\n",
        "filtered_df[\"New_Residuals\"] = filtered_df[\"New_Win_pred\"] - filtered_df[\"WINDOWS\"]\n",
        "filtered_df.tail(3)"
      ],
      "metadata": {
        "colab": {
          "base_uri": "https://localhost:8080/",
          "height": 143
        },
        "id": "akQ1rneLoCOU",
        "outputId": "418e40cb-f137-4798-9326-1b3339c61a65"
      },
      "execution_count": 52,
      "outputs": [
        {
          "output_type": "execute_result",
          "data": {
            "text/plain": [
              "     index  MacOS  WINDOWS    LogMac   Win_pred  Residuals  New_Win_pred  \\\n",
              "104    114  14.44    68.38  2.670002  71.236107   1.113267     71.236107   \n",
              "105    115  15.08    71.13  2.713369  70.498598  -0.246111     70.498598   \n",
              "106    116  15.01    71.06  2.708717  70.577723  -0.187984     70.577723   \n",
              "\n",
              "     New_Residuals  \n",
              "104       2.856107  \n",
              "105      -0.631402  \n",
              "106      -0.482277  "
            ],
            "text/html": [
              "\n",
              "  <div id=\"df-aa122e6f-37af-40a2-b146-7e93b095ca80\">\n",
              "    <div class=\"colab-df-container\">\n",
              "      <div>\n",
              "<style scoped>\n",
              "    .dataframe tbody tr th:only-of-type {\n",
              "        vertical-align: middle;\n",
              "    }\n",
              "\n",
              "    .dataframe tbody tr th {\n",
              "        vertical-align: top;\n",
              "    }\n",
              "\n",
              "    .dataframe thead th {\n",
              "        text-align: right;\n",
              "    }\n",
              "</style>\n",
              "<table border=\"1\" class=\"dataframe\">\n",
              "  <thead>\n",
              "    <tr style=\"text-align: right;\">\n",
              "      <th></th>\n",
              "      <th>index</th>\n",
              "      <th>MacOS</th>\n",
              "      <th>WINDOWS</th>\n",
              "      <th>LogMac</th>\n",
              "      <th>Win_pred</th>\n",
              "      <th>Residuals</th>\n",
              "      <th>New_Win_pred</th>\n",
              "      <th>New_Residuals</th>\n",
              "    </tr>\n",
              "  </thead>\n",
              "  <tbody>\n",
              "    <tr>\n",
              "      <th>104</th>\n",
              "      <td>114</td>\n",
              "      <td>14.44</td>\n",
              "      <td>68.38</td>\n",
              "      <td>2.670002</td>\n",
              "      <td>71.236107</td>\n",
              "      <td>1.113267</td>\n",
              "      <td>71.236107</td>\n",
              "      <td>2.856107</td>\n",
              "    </tr>\n",
              "    <tr>\n",
              "      <th>105</th>\n",
              "      <td>115</td>\n",
              "      <td>15.08</td>\n",
              "      <td>71.13</td>\n",
              "      <td>2.713369</td>\n",
              "      <td>70.498598</td>\n",
              "      <td>-0.246111</td>\n",
              "      <td>70.498598</td>\n",
              "      <td>-0.631402</td>\n",
              "    </tr>\n",
              "    <tr>\n",
              "      <th>106</th>\n",
              "      <td>116</td>\n",
              "      <td>15.01</td>\n",
              "      <td>71.06</td>\n",
              "      <td>2.708717</td>\n",
              "      <td>70.577723</td>\n",
              "      <td>-0.187984</td>\n",
              "      <td>70.577723</td>\n",
              "      <td>-0.482277</td>\n",
              "    </tr>\n",
              "  </tbody>\n",
              "</table>\n",
              "</div>\n",
              "      <button class=\"colab-df-convert\" onclick=\"convertToInteractive('df-aa122e6f-37af-40a2-b146-7e93b095ca80')\"\n",
              "              title=\"Convert this dataframe to an interactive table.\"\n",
              "              style=\"display:none;\">\n",
              "        \n",
              "  <svg xmlns=\"http://www.w3.org/2000/svg\" height=\"24px\"viewBox=\"0 0 24 24\"\n",
              "       width=\"24px\">\n",
              "    <path d=\"M0 0h24v24H0V0z\" fill=\"none\"/>\n",
              "    <path d=\"M18.56 5.44l.94 2.06.94-2.06 2.06-.94-2.06-.94-.94-2.06-.94 2.06-2.06.94zm-11 1L8.5 8.5l.94-2.06 2.06-.94-2.06-.94L8.5 2.5l-.94 2.06-2.06.94zm10 10l.94 2.06.94-2.06 2.06-.94-2.06-.94-.94-2.06-.94 2.06-2.06.94z\"/><path d=\"M17.41 7.96l-1.37-1.37c-.4-.4-.92-.59-1.43-.59-.52 0-1.04.2-1.43.59L10.3 9.45l-7.72 7.72c-.78.78-.78 2.05 0 2.83L4 21.41c.39.39.9.59 1.41.59.51 0 1.02-.2 1.41-.59l7.78-7.78 2.81-2.81c.8-.78.8-2.07 0-2.86zM5.41 20L4 18.59l7.72-7.72 1.47 1.35L5.41 20z\"/>\n",
              "  </svg>\n",
              "      </button>\n",
              "      \n",
              "  <style>\n",
              "    .colab-df-container {\n",
              "      display:flex;\n",
              "      flex-wrap:wrap;\n",
              "      gap: 12px;\n",
              "    }\n",
              "\n",
              "    .colab-df-convert {\n",
              "      background-color: #E8F0FE;\n",
              "      border: none;\n",
              "      border-radius: 50%;\n",
              "      cursor: pointer;\n",
              "      display: none;\n",
              "      fill: #1967D2;\n",
              "      height: 32px;\n",
              "      padding: 0 0 0 0;\n",
              "      width: 32px;\n",
              "    }\n",
              "\n",
              "    .colab-df-convert:hover {\n",
              "      background-color: #E2EBFA;\n",
              "      box-shadow: 0px 1px 2px rgba(60, 64, 67, 0.3), 0px 1px 3px 1px rgba(60, 64, 67, 0.15);\n",
              "      fill: #174EA6;\n",
              "    }\n",
              "\n",
              "    [theme=dark] .colab-df-convert {\n",
              "      background-color: #3B4455;\n",
              "      fill: #D2E3FC;\n",
              "    }\n",
              "\n",
              "    [theme=dark] .colab-df-convert:hover {\n",
              "      background-color: #434B5C;\n",
              "      box-shadow: 0px 1px 3px 1px rgba(0, 0, 0, 0.15);\n",
              "      filter: drop-shadow(0px 1px 2px rgba(0, 0, 0, 0.3));\n",
              "      fill: #FFFFFF;\n",
              "    }\n",
              "  </style>\n",
              "\n",
              "      <script>\n",
              "        const buttonEl =\n",
              "          document.querySelector('#df-aa122e6f-37af-40a2-b146-7e93b095ca80 button.colab-df-convert');\n",
              "        buttonEl.style.display =\n",
              "          google.colab.kernel.accessAllowed ? 'block' : 'none';\n",
              "\n",
              "        async function convertToInteractive(key) {\n",
              "          const element = document.querySelector('#df-aa122e6f-37af-40a2-b146-7e93b095ca80');\n",
              "          const dataTable =\n",
              "            await google.colab.kernel.invokeFunction('convertToInteractive',\n",
              "                                                     [key], {});\n",
              "          if (!dataTable) return;\n",
              "\n",
              "          const docLinkHtml = 'Like what you see? Visit the ' +\n",
              "            '<a target=\"_blank\" href=https://colab.research.google.com/notebooks/data_table.ipynb>data table notebook</a>'\n",
              "            + ' to learn more about interactive tables.';\n",
              "          element.innerHTML = '';\n",
              "          dataTable['output_type'] = 'display_data';\n",
              "          await google.colab.output.renderOutput(dataTable, element);\n",
              "          const docLink = document.createElement('div');\n",
              "          docLink.innerHTML = docLinkHtml;\n",
              "          element.appendChild(docLink);\n",
              "        }\n",
              "      </script>\n",
              "    </div>\n",
              "  </div>\n",
              "  "
            ]
          },
          "metadata": {},
          "execution_count": 52
        }
      ]
    },
    {
      "cell_type": "code",
      "source": [
        "#残差VSlogMACの描写\n",
        "\n",
        "plt.scatter(filtered_df[\"LogMac\"], filtered_df[\"Residuals\"], color = \"black\")\n",
        "plt.hlines(0, filtered_df[\"LogMac\"].min(), filtered_df[\"LogMac\"].max(), color = \"red\")\n",
        "plt.title(\"Scatter plot for Residuals\")\n",
        "plt.xlabel(\"logrithem of MACOS\")\n",
        "plt.ylabel(\"Residuals\")\n",
        "plt.show()"
      ],
      "metadata": {
        "colab": {
          "base_uri": "https://localhost:8080/",
          "height": 295
        },
        "id": "vhHZctCQoXv-",
        "outputId": "5b94f7e6-2921-4cda-f041-a01a923de1a9"
      },
      "execution_count": 59,
      "outputs": [
        {
          "output_type": "display_data",
          "data": {
            "text/plain": [
              "<Figure size 432x288 with 1 Axes>"
            ],
            "image/png": "[encoded data removed]"
          },
          "metadata": {
            "needs_background": "light"
          }
        }
      ]
    },
    {
      "cell_type": "code",
      "source": [
        "#回帰の確認\n",
        "plt.scatter(filtered_df[\"LogMac\"], filtered_df[\"WINDOWS\"])\n",
        "plt.plot(filtered_df[\"LogMac\"], filtered_df[\"Win_pred\"], color = \"green\")\n",
        "plt.plot(filtered_df[\"LogMac\"], filtered_df[\"New_Win_pred\"], color = \"red\")\n",
        "plt.xlabel(\"LogMac\")\n",
        "plt.ylabel(\"Windows\")\n",
        "plt.title(\"relationship of logorithom of Mac OS and WINDOWS\")\n",
        "plt.show()"
      ],
      "metadata": {
        "colab": {
          "base_uri": "https://localhost:8080/",
          "height": 295
        },
        "id": "mVvf0BRkodvl",
        "outputId": "1577a3d7-1421-4740-8783-8d1e078821a0"
      },
      "execution_count": 62,
      "outputs": [
        {
          "output_type": "display_data",
          "data": {
            "text/plain": [
              "<Figure size 432x288 with 1 Axes>"
            ],
            "image/png": "[encoded data removed]"
          },
          "metadata": {
            "needs_background": "light"
          }
        }
      ]
    },
    {
      "cell_type": "markdown",
      "source": [
        "\n",
        "結論\n",
        "---\n",
        "MACOSとWINDOWSは逆対数関係にある事が分かった。\n",
        "\n",
        "この事から、MACOSは登場してから一気にシェア率を伸ばしていき、WINDOWSのシェアを多く奪ってきた事が分かる。ただ、ここ数年では落ち着きを見せていて、これ以上WINDOWSのシェアを奪う可能性は低いと言える。\n",
        "\n",
        "ただ、残差のバラツキに何らかの法則性がある事から、感知できていない変数が存在する事は明らかである。\n",
        "\n",
        "この事から、MACOSが今後市場を独占する可能性が低いとは言え、100％ないとは言い切れない。\n"
      ],
      "metadata": {
        "id": "q4jBdRODqSHn"
      }
    }
  ]
}